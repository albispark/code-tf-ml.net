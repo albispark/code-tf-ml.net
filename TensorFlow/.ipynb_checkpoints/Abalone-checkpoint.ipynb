{
 "cells": [
  {
   "cell_type": "code",
   "execution_count": 1,
   "id": "546c6b82",
   "metadata": {},
   "outputs": [],
   "source": [
    "import pandas as pd\n",
    "import numpy as np\n",
    "import matplotlib.pyplot as plt\n",
    "\n",
    "# Make numpy values easier to read.\n",
    "# np.set_printoptions(precision=3, suppress=True)\n",
    "\n",
    "import tensorflow as tf\n",
    "from tensorflow.keras import layers"
   ]
  },
  {
   "cell_type": "code",
   "execution_count": 2,
   "id": "88deb60d",
   "metadata": {
    "scrolled": true
   },
   "outputs": [
    {
     "data": {
      "text/html": [
       "<div>\n",
       "<style scoped>\n",
       "    .dataframe tbody tr th:only-of-type {\n",
       "        vertical-align: middle;\n",
       "    }\n",
       "\n",
       "    .dataframe tbody tr th {\n",
       "        vertical-align: top;\n",
       "    }\n",
       "\n",
       "    .dataframe thead th {\n",
       "        text-align: right;\n",
       "    }\n",
       "</style>\n",
       "<table border=\"1\" class=\"dataframe\">\n",
       "  <thead>\n",
       "    <tr style=\"text-align: right;\">\n",
       "      <th></th>\n",
       "      <th>Sex</th>\n",
       "      <th>Length</th>\n",
       "      <th>Diameter</th>\n",
       "      <th>Height</th>\n",
       "      <th>Whole weight</th>\n",
       "      <th>Shucked weight</th>\n",
       "      <th>Viscera weight</th>\n",
       "      <th>Shell weight</th>\n",
       "      <th>Rings</th>\n",
       "    </tr>\n",
       "  </thead>\n",
       "  <tbody>\n",
       "    <tr>\n",
       "      <th>0</th>\n",
       "      <td>M</td>\n",
       "      <td>0.455</td>\n",
       "      <td>0.365</td>\n",
       "      <td>0.095</td>\n",
       "      <td>0.5140</td>\n",
       "      <td>0.2245</td>\n",
       "      <td>0.1010</td>\n",
       "      <td>0.1500</td>\n",
       "      <td>15</td>\n",
       "    </tr>\n",
       "    <tr>\n",
       "      <th>1</th>\n",
       "      <td>M</td>\n",
       "      <td>0.350</td>\n",
       "      <td>0.265</td>\n",
       "      <td>0.090</td>\n",
       "      <td>0.2255</td>\n",
       "      <td>0.0995</td>\n",
       "      <td>0.0485</td>\n",
       "      <td>0.0700</td>\n",
       "      <td>7</td>\n",
       "    </tr>\n",
       "    <tr>\n",
       "      <th>2</th>\n",
       "      <td>F</td>\n",
       "      <td>0.530</td>\n",
       "      <td>0.420</td>\n",
       "      <td>0.135</td>\n",
       "      <td>0.6770</td>\n",
       "      <td>0.2565</td>\n",
       "      <td>0.1415</td>\n",
       "      <td>0.2100</td>\n",
       "      <td>9</td>\n",
       "    </tr>\n",
       "    <tr>\n",
       "      <th>3</th>\n",
       "      <td>M</td>\n",
       "      <td>0.440</td>\n",
       "      <td>0.365</td>\n",
       "      <td>0.125</td>\n",
       "      <td>0.5160</td>\n",
       "      <td>0.2155</td>\n",
       "      <td>0.1140</td>\n",
       "      <td>0.1550</td>\n",
       "      <td>10</td>\n",
       "    </tr>\n",
       "    <tr>\n",
       "      <th>4</th>\n",
       "      <td>I</td>\n",
       "      <td>0.330</td>\n",
       "      <td>0.255</td>\n",
       "      <td>0.080</td>\n",
       "      <td>0.2050</td>\n",
       "      <td>0.0895</td>\n",
       "      <td>0.0395</td>\n",
       "      <td>0.0550</td>\n",
       "      <td>7</td>\n",
       "    </tr>\n",
       "    <tr>\n",
       "      <th>...</th>\n",
       "      <td>...</td>\n",
       "      <td>...</td>\n",
       "      <td>...</td>\n",
       "      <td>...</td>\n",
       "      <td>...</td>\n",
       "      <td>...</td>\n",
       "      <td>...</td>\n",
       "      <td>...</td>\n",
       "      <td>...</td>\n",
       "    </tr>\n",
       "    <tr>\n",
       "      <th>4172</th>\n",
       "      <td>F</td>\n",
       "      <td>0.565</td>\n",
       "      <td>0.450</td>\n",
       "      <td>0.165</td>\n",
       "      <td>0.8870</td>\n",
       "      <td>0.3700</td>\n",
       "      <td>0.2390</td>\n",
       "      <td>0.2490</td>\n",
       "      <td>11</td>\n",
       "    </tr>\n",
       "    <tr>\n",
       "      <th>4173</th>\n",
       "      <td>M</td>\n",
       "      <td>0.590</td>\n",
       "      <td>0.440</td>\n",
       "      <td>0.135</td>\n",
       "      <td>0.9660</td>\n",
       "      <td>0.4390</td>\n",
       "      <td>0.2145</td>\n",
       "      <td>0.2605</td>\n",
       "      <td>10</td>\n",
       "    </tr>\n",
       "    <tr>\n",
       "      <th>4174</th>\n",
       "      <td>M</td>\n",
       "      <td>0.600</td>\n",
       "      <td>0.475</td>\n",
       "      <td>0.205</td>\n",
       "      <td>1.1760</td>\n",
       "      <td>0.5255</td>\n",
       "      <td>0.2875</td>\n",
       "      <td>0.3080</td>\n",
       "      <td>9</td>\n",
       "    </tr>\n",
       "    <tr>\n",
       "      <th>4175</th>\n",
       "      <td>F</td>\n",
       "      <td>0.625</td>\n",
       "      <td>0.485</td>\n",
       "      <td>0.150</td>\n",
       "      <td>1.0945</td>\n",
       "      <td>0.5310</td>\n",
       "      <td>0.2610</td>\n",
       "      <td>0.2960</td>\n",
       "      <td>10</td>\n",
       "    </tr>\n",
       "    <tr>\n",
       "      <th>4176</th>\n",
       "      <td>M</td>\n",
       "      <td>0.710</td>\n",
       "      <td>0.555</td>\n",
       "      <td>0.195</td>\n",
       "      <td>1.9485</td>\n",
       "      <td>0.9455</td>\n",
       "      <td>0.3765</td>\n",
       "      <td>0.4950</td>\n",
       "      <td>12</td>\n",
       "    </tr>\n",
       "  </tbody>\n",
       "</table>\n",
       "<p>4177 rows × 9 columns</p>\n",
       "</div>"
      ],
      "text/plain": [
       "     Sex  Length  Diameter  Height  Whole weight  Shucked weight  \\\n",
       "0      M   0.455     0.365   0.095        0.5140          0.2245   \n",
       "1      M   0.350     0.265   0.090        0.2255          0.0995   \n",
       "2      F   0.530     0.420   0.135        0.6770          0.2565   \n",
       "3      M   0.440     0.365   0.125        0.5160          0.2155   \n",
       "4      I   0.330     0.255   0.080        0.2050          0.0895   \n",
       "...   ..     ...       ...     ...           ...             ...   \n",
       "4172   F   0.565     0.450   0.165        0.8870          0.3700   \n",
       "4173   M   0.590     0.440   0.135        0.9660          0.4390   \n",
       "4174   M   0.600     0.475   0.205        1.1760          0.5255   \n",
       "4175   F   0.625     0.485   0.150        1.0945          0.5310   \n",
       "4176   M   0.710     0.555   0.195        1.9485          0.9455   \n",
       "\n",
       "      Viscera weight  Shell weight  Rings  \n",
       "0             0.1010        0.1500     15  \n",
       "1             0.0485        0.0700      7  \n",
       "2             0.1415        0.2100      9  \n",
       "3             0.1140        0.1550     10  \n",
       "4             0.0395        0.0550      7  \n",
       "...              ...           ...    ...  \n",
       "4172          0.2390        0.2490     11  \n",
       "4173          0.2145        0.2605     10  \n",
       "4174          0.2875        0.3080      9  \n",
       "4175          0.2610        0.2960     10  \n",
       "4176          0.3765        0.4950     12  \n",
       "\n",
       "[4177 rows x 9 columns]"
      ]
     },
     "execution_count": 2,
     "metadata": {},
     "output_type": "execute_result"
    }
   ],
   "source": [
    "data = pd.read_csv(\"data/abalone.csv\")\n",
    "data"
   ]
  },
  {
   "cell_type": "code",
   "execution_count": 3,
   "id": "497bd472",
   "metadata": {},
   "outputs": [],
   "source": [
    "abalone_features = data\n",
    "abalone_labels = abalone_features.pop('Rings')"
   ]
  },
  {
   "cell_type": "code",
   "execution_count": 4,
   "id": "d912d6cf",
   "metadata": {},
   "outputs": [
    {
     "data": {
      "text/html": [
       "<div>\n",
       "<style scoped>\n",
       "    .dataframe tbody tr th:only-of-type {\n",
       "        vertical-align: middle;\n",
       "    }\n",
       "\n",
       "    .dataframe tbody tr th {\n",
       "        vertical-align: top;\n",
       "    }\n",
       "\n",
       "    .dataframe thead th {\n",
       "        text-align: right;\n",
       "    }\n",
       "</style>\n",
       "<table border=\"1\" class=\"dataframe\">\n",
       "  <thead>\n",
       "    <tr style=\"text-align: right;\">\n",
       "      <th></th>\n",
       "      <th>Sex</th>\n",
       "      <th>Length</th>\n",
       "      <th>Diameter</th>\n",
       "      <th>Height</th>\n",
       "      <th>Whole weight</th>\n",
       "      <th>Shucked weight</th>\n",
       "      <th>Viscera weight</th>\n",
       "      <th>Shell weight</th>\n",
       "    </tr>\n",
       "  </thead>\n",
       "  <tbody>\n",
       "    <tr>\n",
       "      <th>0</th>\n",
       "      <td>M</td>\n",
       "      <td>0.455</td>\n",
       "      <td>0.365</td>\n",
       "      <td>0.095</td>\n",
       "      <td>0.5140</td>\n",
       "      <td>0.2245</td>\n",
       "      <td>0.1010</td>\n",
       "      <td>0.1500</td>\n",
       "    </tr>\n",
       "    <tr>\n",
       "      <th>1</th>\n",
       "      <td>M</td>\n",
       "      <td>0.350</td>\n",
       "      <td>0.265</td>\n",
       "      <td>0.090</td>\n",
       "      <td>0.2255</td>\n",
       "      <td>0.0995</td>\n",
       "      <td>0.0485</td>\n",
       "      <td>0.0700</td>\n",
       "    </tr>\n",
       "    <tr>\n",
       "      <th>2</th>\n",
       "      <td>F</td>\n",
       "      <td>0.530</td>\n",
       "      <td>0.420</td>\n",
       "      <td>0.135</td>\n",
       "      <td>0.6770</td>\n",
       "      <td>0.2565</td>\n",
       "      <td>0.1415</td>\n",
       "      <td>0.2100</td>\n",
       "    </tr>\n",
       "    <tr>\n",
       "      <th>3</th>\n",
       "      <td>M</td>\n",
       "      <td>0.440</td>\n",
       "      <td>0.365</td>\n",
       "      <td>0.125</td>\n",
       "      <td>0.5160</td>\n",
       "      <td>0.2155</td>\n",
       "      <td>0.1140</td>\n",
       "      <td>0.1550</td>\n",
       "    </tr>\n",
       "    <tr>\n",
       "      <th>4</th>\n",
       "      <td>I</td>\n",
       "      <td>0.330</td>\n",
       "      <td>0.255</td>\n",
       "      <td>0.080</td>\n",
       "      <td>0.2050</td>\n",
       "      <td>0.0895</td>\n",
       "      <td>0.0395</td>\n",
       "      <td>0.0550</td>\n",
       "    </tr>\n",
       "    <tr>\n",
       "      <th>...</th>\n",
       "      <td>...</td>\n",
       "      <td>...</td>\n",
       "      <td>...</td>\n",
       "      <td>...</td>\n",
       "      <td>...</td>\n",
       "      <td>...</td>\n",
       "      <td>...</td>\n",
       "      <td>...</td>\n",
       "    </tr>\n",
       "    <tr>\n",
       "      <th>4172</th>\n",
       "      <td>F</td>\n",
       "      <td>0.565</td>\n",
       "      <td>0.450</td>\n",
       "      <td>0.165</td>\n",
       "      <td>0.8870</td>\n",
       "      <td>0.3700</td>\n",
       "      <td>0.2390</td>\n",
       "      <td>0.2490</td>\n",
       "    </tr>\n",
       "    <tr>\n",
       "      <th>4173</th>\n",
       "      <td>M</td>\n",
       "      <td>0.590</td>\n",
       "      <td>0.440</td>\n",
       "      <td>0.135</td>\n",
       "      <td>0.9660</td>\n",
       "      <td>0.4390</td>\n",
       "      <td>0.2145</td>\n",
       "      <td>0.2605</td>\n",
       "    </tr>\n",
       "    <tr>\n",
       "      <th>4174</th>\n",
       "      <td>M</td>\n",
       "      <td>0.600</td>\n",
       "      <td>0.475</td>\n",
       "      <td>0.205</td>\n",
       "      <td>1.1760</td>\n",
       "      <td>0.5255</td>\n",
       "      <td>0.2875</td>\n",
       "      <td>0.3080</td>\n",
       "    </tr>\n",
       "    <tr>\n",
       "      <th>4175</th>\n",
       "      <td>F</td>\n",
       "      <td>0.625</td>\n",
       "      <td>0.485</td>\n",
       "      <td>0.150</td>\n",
       "      <td>1.0945</td>\n",
       "      <td>0.5310</td>\n",
       "      <td>0.2610</td>\n",
       "      <td>0.2960</td>\n",
       "    </tr>\n",
       "    <tr>\n",
       "      <th>4176</th>\n",
       "      <td>M</td>\n",
       "      <td>0.710</td>\n",
       "      <td>0.555</td>\n",
       "      <td>0.195</td>\n",
       "      <td>1.9485</td>\n",
       "      <td>0.9455</td>\n",
       "      <td>0.3765</td>\n",
       "      <td>0.4950</td>\n",
       "    </tr>\n",
       "  </tbody>\n",
       "</table>\n",
       "<p>4177 rows × 8 columns</p>\n",
       "</div>"
      ],
      "text/plain": [
       "     Sex  Length  Diameter  Height  Whole weight  Shucked weight  \\\n",
       "0      M   0.455     0.365   0.095        0.5140          0.2245   \n",
       "1      M   0.350     0.265   0.090        0.2255          0.0995   \n",
       "2      F   0.530     0.420   0.135        0.6770          0.2565   \n",
       "3      M   0.440     0.365   0.125        0.5160          0.2155   \n",
       "4      I   0.330     0.255   0.080        0.2050          0.0895   \n",
       "...   ..     ...       ...     ...           ...             ...   \n",
       "4172   F   0.565     0.450   0.165        0.8870          0.3700   \n",
       "4173   M   0.590     0.440   0.135        0.9660          0.4390   \n",
       "4174   M   0.600     0.475   0.205        1.1760          0.5255   \n",
       "4175   F   0.625     0.485   0.150        1.0945          0.5310   \n",
       "4176   M   0.710     0.555   0.195        1.9485          0.9455   \n",
       "\n",
       "      Viscera weight  Shell weight  \n",
       "0             0.1010        0.1500  \n",
       "1             0.0485        0.0700  \n",
       "2             0.1415        0.2100  \n",
       "3             0.1140        0.1550  \n",
       "4             0.0395        0.0550  \n",
       "...              ...           ...  \n",
       "4172          0.2390        0.2490  \n",
       "4173          0.2145        0.2605  \n",
       "4174          0.2875        0.3080  \n",
       "4175          0.2610        0.2960  \n",
       "4176          0.3765        0.4950  \n",
       "\n",
       "[4177 rows x 8 columns]"
      ]
     },
     "execution_count": 4,
     "metadata": {},
     "output_type": "execute_result"
    }
   ],
   "source": [
    "abalone_features"
   ]
  },
  {
   "cell_type": "code",
   "execution_count": 5,
   "id": "d74608b8",
   "metadata": {},
   "outputs": [
    {
     "data": {
      "text/plain": [
       "0       15\n",
       "1        7\n",
       "2        9\n",
       "3       10\n",
       "4        7\n",
       "        ..\n",
       "4172    11\n",
       "4173    10\n",
       "4174     9\n",
       "4175    10\n",
       "4176    12\n",
       "Name: Rings, Length: 4177, dtype: int64"
      ]
     },
     "execution_count": 5,
     "metadata": {},
     "output_type": "execute_result"
    }
   ],
   "source": [
    "abalone_labels"
   ]
  },
  {
   "cell_type": "code",
   "execution_count": 6,
   "id": "83e7914b",
   "metadata": {},
   "outputs": [
    {
     "data": {
      "text/plain": [
       "9     689\n",
       "10    634\n",
       "8     568\n",
       "11    487\n",
       "7     391\n",
       "12    267\n",
       "6     259\n",
       "13    203\n",
       "14    126\n",
       "5     115\n",
       "15    103\n",
       "16     67\n",
       "17     58\n",
       "4      57\n",
       "18     42\n",
       "19     32\n",
       "20     26\n",
       "3      15\n",
       "21     14\n",
       "23      9\n",
       "22      6\n",
       "27      2\n",
       "24      2\n",
       "1       1\n",
       "26      1\n",
       "29      1\n",
       "2       1\n",
       "25      1\n",
       "Name: Rings, dtype: int64"
      ]
     },
     "execution_count": 6,
     "metadata": {},
     "output_type": "execute_result"
    }
   ],
   "source": [
    "abalone_labels.value_counts()"
   ]
  },
  {
   "cell_type": "markdown",
   "id": "904cc972",
   "metadata": {},
   "source": [
    "# Classificazione eta"
   ]
  },
  {
   "cell_type": "code",
   "execution_count": 1,
   "id": "d116404b",
   "metadata": {},
   "outputs": [
    {
     "ename": "NameError",
     "evalue": "name 'abalone_labels' is not defined",
     "output_type": "error",
     "traceback": [
      "\u001b[1;31m---------------------------------------------------------------------------\u001b[0m",
      "\u001b[1;31mNameError\u001b[0m                                 Traceback (most recent call last)",
      "Cell \u001b[1;32mIn[1], line 2\u001b[0m\n\u001b[0;32m      1\u001b[0m \u001b[38;5;28;01mfrom\u001b[39;00m \u001b[38;5;21;01mtensorflow\u001b[39;00m\u001b[38;5;21;01m.\u001b[39;00m\u001b[38;5;21;01mkeras\u001b[39;00m\u001b[38;5;21;01m.\u001b[39;00m\u001b[38;5;21;01mutils\u001b[39;00m \u001b[38;5;28;01mimport\u001b[39;00m to_categorical\n\u001b[1;32m----> 2\u001b[0m abalone_cat_labels \u001b[38;5;241m=\u001b[39m to_categorical(\u001b[43mabalone_labels\u001b[49m)\n",
      "\u001b[1;31mNameError\u001b[0m: name 'abalone_labels' is not defined"
     ]
    }
   ],
   "source": [
    "from tensorflow.keras.utils import to_categorical\n",
    "abalone_cat_labels = to_categorical(abalone_labels)"
   ]
  },
  {
   "cell_type": "code",
   "execution_count": 8,
   "id": "34d85b57",
   "metadata": {},
   "outputs": [],
   "source": [
    "from sklearn.model_selection import train_test_split\n",
    "X_train, X_val, y_train, y_val = train_test_split(abalone_features, abalone_cat_labels, test_size=1/3, random_state=42)"
   ]
  },
  {
   "cell_type": "code",
   "execution_count": 11,
   "id": "15211716",
   "metadata": {},
   "outputs": [],
   "source": [
    "# from tensorflow import feature_column\n",
    "from sklearn.preprocessing import OneHotEncoder\n",
    "from sklearn.preprocessing import StandardScaler\n",
    "from sklearn.compose import ColumnTransformer\n",
    "\n",
    "# variabili numeriche\n",
    "numeric_vars = [\"Length\", \"Diameter\", \"Height\", \"Whole weight\", \"Shucked weight\", \"Viscera weight\", \"Shell weight\"]\n",
    "# varibili categoriche\n",
    "categorical_vars = [\"Sex\"]\n",
    "\n",
    "# feature_columns = []\n",
    "# for header in numeric_vars:\n",
    "#     feature_columns.append(tf.feature_column.numeric_column(header))\n",
    "\n",
    "# sex_type = feature_column.categorical_column_with_vocabulary_list('Sex', ['M', 'F', 'I'])\n",
    "# sex_type_one_hot = feature_column.indicator_column(sex_type)\n",
    "# feature_columns.append(sex_type_one_hot)\n",
    "\n",
    "\n",
    "preprocessor = ColumnTransformer([\n",
    "    ( \"categorical\", OneHotEncoder()    , categorical_vars),\n",
    "    ( \"numeric\"    , StandardScaler()   , numeric_vars),\n",
    "])\n",
    "\n",
    "X_train = preprocessor.fit_transform(X_train)\n",
    "X_val = preprocessor.transform(X_val)"
   ]
  },
  {
   "cell_type": "code",
   "execution_count": 47,
   "id": "0461bc42",
   "metadata": {},
   "outputs": [
    {
     "data": {
      "text/plain": [
       "array([ 1.        ,  0.        ,  0.        ,  0.36501294,  0.40649702,\n",
       "        0.22925817,  0.2570285 ,  0.7458663 ,  0.05913851, -0.23191583])"
      ]
     },
     "execution_count": 47,
     "metadata": {},
     "output_type": "execute_result"
    }
   ],
   "source": [
    "X_train[0]"
   ]
  },
  {
   "cell_type": "code",
   "execution_count": 12,
   "id": "f5e111fd",
   "metadata": {},
   "outputs": [
    {
     "data": {
      "text/plain": [
       "(10, 30)"
      ]
     },
     "execution_count": 12,
     "metadata": {},
     "output_type": "execute_result"
    }
   ],
   "source": [
    "X_train.shape[1],  y_train[0].shape[0]"
   ]
  },
  {
   "cell_type": "code",
   "execution_count": 13,
   "id": "e322b086",
   "metadata": {},
   "outputs": [],
   "source": [
    "model = tf.keras.Sequential([\n",
    "    layers.Dense(10, activation=\"relu\", input_dim=X_train.shape[1]),\n",
    "    layers.Dense(32, activation=\"relu\"),\n",
    "    layers.Dense(16, activation=\"relu\"),\n",
    "    layers.Dense(y_train[0].shape[0], activation=\"softmax\")\n",
    "])"
   ]
  },
  {
   "cell_type": "code",
   "execution_count": 14,
   "id": "843fe9dc",
   "metadata": {},
   "outputs": [
    {
     "name": "stdout",
     "output_type": "stream",
     "text": [
      "Model: \"sequential\"\n",
      "_________________________________________________________________\n",
      " Layer (type)                Output Shape              Param #   \n",
      "=================================================================\n",
      " dense (Dense)               (None, 10)                110       \n",
      "                                                                 \n",
      " dense_1 (Dense)             (None, 32)                352       \n",
      "                                                                 \n",
      " dense_2 (Dense)             (None, 16)                528       \n",
      "                                                                 \n",
      " dense_3 (Dense)             (None, 30)                510       \n",
      "                                                                 \n",
      "=================================================================\n",
      "Total params: 1,500\n",
      "Trainable params: 1,500\n",
      "Non-trainable params: 0\n",
      "_________________________________________________________________\n"
     ]
    }
   ],
   "source": [
    "model.summary()"
   ]
  },
  {
   "cell_type": "code",
   "execution_count": 15,
   "id": "5d21f916",
   "metadata": {},
   "outputs": [],
   "source": [
    "model.compile(\n",
    "    optimizer=\"adam\",\n",
    "    loss=\"categorical_crossentropy\",\n",
    "    metrics=[\"accuracy\"]\n",
    ")"
   ]
  },
  {
   "cell_type": "code",
   "execution_count": 16,
   "id": "324f08e0",
   "metadata": {},
   "outputs": [
    {
     "name": "stdout",
     "output_type": "stream",
     "text": [
      "Epoch 1/20\n",
      "279/279 [==============================] - 1s 2ms/step - loss: 2.8686 - accuracy: 0.1466\n",
      "Epoch 2/20\n",
      "279/279 [==============================] - 0s 2ms/step - loss: 2.3014 - accuracy: 0.2191\n",
      "Epoch 3/20\n",
      "279/279 [==============================] - 0s 1ms/step - loss: 2.1288 - accuracy: 0.2417\n",
      "Epoch 4/20\n",
      "279/279 [==============================] - 0s 1ms/step - loss: 2.0594 - accuracy: 0.2475\n",
      "Epoch 5/20\n",
      "279/279 [==============================] - 0s 1ms/step - loss: 2.0174 - accuracy: 0.2532\n",
      "Epoch 6/20\n",
      "279/279 [==============================] - 0s 1ms/step - loss: 1.9858 - accuracy: 0.2575\n",
      "Epoch 7/20\n",
      "279/279 [==============================] - 0s 1ms/step - loss: 1.9673 - accuracy: 0.2683\n",
      "Epoch 8/20\n",
      "279/279 [==============================] - 0s 2ms/step - loss: 1.9528 - accuracy: 0.2647\n",
      "Epoch 9/20\n",
      "279/279 [==============================] - 0s 1ms/step - loss: 1.9385 - accuracy: 0.2680\n",
      "Epoch 10/20\n",
      "279/279 [==============================] - 0s 1ms/step - loss: 1.9323 - accuracy: 0.2658\n",
      "Epoch 11/20\n",
      "279/279 [==============================] - 0s 1ms/step - loss: 1.9249 - accuracy: 0.2719\n",
      "Epoch 12/20\n",
      "279/279 [==============================] - 0s 1ms/step - loss: 1.9187 - accuracy: 0.2766\n",
      "Epoch 13/20\n",
      "279/279 [==============================] - 0s 1ms/step - loss: 1.9126 - accuracy: 0.2888\n",
      "Epoch 14/20\n",
      "279/279 [==============================] - 0s 1ms/step - loss: 1.9132 - accuracy: 0.2687\n",
      "Epoch 15/20\n",
      "279/279 [==============================] - 0s 1ms/step - loss: 1.9112 - accuracy: 0.2723\n",
      "Epoch 16/20\n",
      "279/279 [==============================] - 0s 1ms/step - loss: 1.9060 - accuracy: 0.2805\n",
      "Epoch 17/20\n",
      "279/279 [==============================] - 0s 1ms/step - loss: 1.9018 - accuracy: 0.2863\n",
      "Epoch 18/20\n",
      "279/279 [==============================] - 0s 2ms/step - loss: 1.8993 - accuracy: 0.2748\n",
      "Epoch 19/20\n",
      "279/279 [==============================] - 0s 1ms/step - loss: 1.8970 - accuracy: 0.2766\n",
      "Epoch 20/20\n",
      "279/279 [==============================] - 0s 1ms/step - loss: 1.8936 - accuracy: 0.2812\n"
     ]
    }
   ],
   "source": [
    "fit_history = model.fit(X_train, y_train, batch_size=10, epochs=20)"
   ]
  },
  {
   "cell_type": "code",
   "execution_count": 17,
   "id": "ecd808e8",
   "metadata": {
    "scrolled": true
   },
   "outputs": [
    {
     "name": "stdout",
     "output_type": "stream",
     "text": [
      "44/44 [==============================] - 0s 2ms/step - loss: 1.9423 - accuracy: 0.2958\n"
     ]
    },
    {
     "data": {
      "text/plain": [
       "[1.942300796508789, 0.2957645356655121]"
      ]
     },
     "execution_count": 17,
     "metadata": {},
     "output_type": "execute_result"
    }
   ],
   "source": [
    "model.evaluate(X_val, y_val)"
   ]
  },
  {
   "cell_type": "code",
   "execution_count": 18,
   "id": "c1e6162f",
   "metadata": {},
   "outputs": [
    {
     "name": "stdout",
     "output_type": "stream",
     "text": [
      "1/1 [==============================] - 0s 87ms/step\n"
     ]
    },
    {
     "data": {
      "text/plain": [
       "array([[9.40815568e-08, 3.68560826e-08, 5.60150966e-07, 9.78929382e-09,\n",
       "        3.28383180e-07, 1.33495032e-05, 3.12888296e-04, 2.08821357e-03,\n",
       "        1.90974455e-02, 8.06924701e-02, 2.24596009e-01, 2.06555873e-01,\n",
       "        1.10367998e-01, 1.36674523e-01, 7.54229724e-02, 4.79019284e-02,\n",
       "        2.58506443e-02, 3.10168751e-02, 1.40112936e-02, 1.39373532e-02,\n",
       "        6.53940998e-03, 2.98364693e-03, 2.98717991e-04, 7.99903064e-04,\n",
       "        6.97367523e-06, 4.77338835e-05, 2.35340238e-04, 3.42012015e-07,\n",
       "        2.72167028e-07, 5.46765630e-04],\n",
       "       [4.57891369e-09, 7.89085242e-10, 6.02306329e-08, 3.12938675e-09,\n",
       "        2.25391162e-07, 2.17811539e-05, 2.00342853e-03, 1.57782957e-02,\n",
       "        1.38098389e-01, 3.02245706e-01, 2.83795923e-01, 1.33635044e-01,\n",
       "        6.30158707e-02, 2.79457755e-02, 1.39952283e-02, 1.10261161e-02,\n",
       "        3.29975295e-03, 1.86285703e-03, 1.36311830e-03, 1.53827865e-03,\n",
       "        1.68005165e-04, 1.20107048e-04, 3.15435682e-06, 7.15606875e-05,\n",
       "        1.42552841e-08, 1.29425828e-07, 9.59043632e-07, 1.25058991e-10,\n",
       "        1.14721752e-08, 1.01137903e-05],\n",
       "       [1.86524940e-05, 3.76428325e-05, 5.43449205e-05, 3.09069014e-06,\n",
       "        1.13151118e-05, 1.16051095e-04, 5.89702337e-04, 1.79533160e-03,\n",
       "        1.77741908e-02, 1.90130081e-02, 6.71154335e-02, 5.47216497e-02,\n",
       "        6.47377744e-02, 1.09275512e-01, 1.09537855e-01, 8.45003724e-02,\n",
       "        1.11822322e-01, 1.08265467e-01, 5.41748218e-02, 5.34389652e-02,\n",
       "        6.43468127e-02, 3.77133116e-02, 9.20769293e-03, 1.33071253e-02,\n",
       "        3.68962623e-03, 5.08711068e-03, 3.02883284e-03, 1.93818624e-03,\n",
       "        3.79898447e-05, 4.63988911e-03],\n",
       "       [2.46543408e-07, 7.16895414e-08, 1.49130892e-06, 5.04129538e-08,\n",
       "        2.01646344e-06, 4.36950104e-05, 8.59875057e-04, 4.55599139e-03,\n",
       "        3.09320353e-02, 1.24486990e-01, 2.24409506e-01, 2.17805713e-01,\n",
       "        1.39651462e-01, 9.77499411e-02, 5.07412702e-02, 4.16821353e-02,\n",
       "        1.89026576e-02, 1.86438542e-02, 9.66639537e-03, 1.14828674e-02,\n",
       "        4.34740912e-03, 2.10294849e-03, 2.76120118e-04, 8.05603748e-04,\n",
       "        5.40284509e-06, 4.48189567e-05, 2.41130314e-04, 2.01130376e-07,\n",
       "        8.02240606e-07, 5.57248481e-04],\n",
       "       [7.66050198e-06, 7.84924305e-06, 3.70201233e-05, 2.63183642e-06,\n",
       "        2.15076125e-05, 2.63954309e-04, 1.96736748e-03, 6.58840081e-03,\n",
       "        3.51815410e-02, 7.64265954e-02, 1.48198113e-01, 1.29497856e-01,\n",
       "        1.07233360e-01, 1.18685350e-01, 9.19093639e-02, 8.13884214e-02,\n",
       "        5.17847724e-02, 5.20583503e-02, 2.53931116e-02, 2.88857482e-02,\n",
       "        2.15964131e-02, 1.01141008e-02, 2.49310746e-03, 4.91424231e-03,\n",
       "        2.74312712e-04, 7.20362645e-04, 1.54541992e-03, 4.68918588e-05,\n",
       "        1.67872004e-05, 2.73931166e-03]], dtype=float32)"
      ]
     },
     "execution_count": 18,
     "metadata": {},
     "output_type": "execute_result"
    }
   ],
   "source": [
    "model.predict(X_val[:5])"
   ]
  },
  {
   "cell_type": "code",
   "execution_count": 19,
   "id": "d1955338",
   "metadata": {},
   "outputs": [
    {
     "name": "stdout",
     "output_type": "stream",
     "text": [
      "1/1 [==============================] - 0s 22ms/step\n"
     ]
    },
    {
     "data": {
      "text/plain": [
       "array([10,  9, 16, 10, 10], dtype=int64)"
      ]
     },
     "execution_count": 19,
     "metadata": {},
     "output_type": "execute_result"
    }
   ],
   "source": [
    "np.argmax(model.predict(X_val[:5]), -1)"
   ]
  },
  {
   "cell_type": "code",
   "execution_count": 20,
   "id": "2ebe2d35",
   "metadata": {},
   "outputs": [
    {
     "data": {
      "text/plain": [
       "array([ 9,  8, 16,  9, 14], dtype=int64)"
      ]
     },
     "execution_count": 20,
     "metadata": {},
     "output_type": "execute_result"
    }
   ],
   "source": [
    "np.argmax(y_val[:5], -1)"
   ]
  },
  {
   "cell_type": "markdown",
   "id": "c540486d",
   "metadata": {},
   "source": [
    "# Classificazione quartili"
   ]
  },
  {
   "cell_type": "code",
   "execution_count": 21,
   "id": "91bb8a4d",
   "metadata": {},
   "outputs": [
    {
     "name": "stdout",
     "output_type": "stream",
     "text": [
      "0       (11.0, 29.0]\n",
      "1       (0.999, 8.0]\n",
      "2         (8.0, 9.0]\n",
      "3        (9.0, 11.0]\n",
      "4       (0.999, 8.0]\n",
      "            ...     \n",
      "4172     (9.0, 11.0]\n",
      "4173     (9.0, 11.0]\n",
      "4174      (8.0, 9.0]\n",
      "4175     (9.0, 11.0]\n",
      "4176    (11.0, 29.0]\n",
      "Name: Rings, Length: 4177, dtype: category\n",
      "Categories (4, interval[float64, right]): [(0.999, 8.0] < (8.0, 9.0] < (9.0, 11.0] < (11.0, 29.0]]\n",
      "(0.999, 8.0]    1407\n",
      "(9.0, 11.0]     1121\n",
      "(11.0, 29.0]     960\n",
      "(8.0, 9.0]       689\n",
      "Name: Rings, dtype: int64\n",
      "[[0. 0. 0. 1.]\n",
      " [1. 0. 0. 0.]\n",
      " [0. 1. 0. 0.]\n",
      " ...\n",
      " [0. 1. 0. 0.]\n",
      " [0. 0. 1. 0.]\n",
      " [0. 0. 0. 1.]]\n"
     ]
    }
   ],
   "source": [
    "from sklearn.preprocessing import LabelEncoder\n",
    "from tensorflow.keras.utils import to_categorical\n",
    "\n",
    "abalone_q_labels = pd.qcut(abalone_labels, 4)\n",
    "print(abalone_q_labels)\n",
    "print(abalone_q_labels.value_counts())\n",
    "encoder = LabelEncoder()\n",
    "encoder.fit(abalone_q_labels)\n",
    "encoded_Y = encoder.transform(abalone_q_labels)\n",
    "# convert integers to dummy variables (i.e. one hot encoded)\n",
    "abalone_q_onehot_labels = to_categorical(encoded_Y)\n",
    "print(abalone_q_onehot_labels)"
   ]
  },
  {
   "cell_type": "code",
   "execution_count": 22,
   "id": "3cb1862c",
   "metadata": {},
   "outputs": [],
   "source": [
    "Xq_train, Xq_val, yq_train, yq_val = train_test_split(abalone_features, abalone_q_onehot_labels, test_size=1/3, random_state=42)"
   ]
  },
  {
   "cell_type": "code",
   "execution_count": 25,
   "id": "2a150e2f",
   "metadata": {},
   "outputs": [],
   "source": [
    "preprocessor_q = ColumnTransformer([\n",
    "    ( \"categorical\", OneHotEncoder()    , categorical_vars),\n",
    "    ( \"numeric\"    , StandardScaler()   , numeric_vars),\n",
    "])\n",
    "\n",
    "Xq_train = preprocessor_q.fit_transform(Xq_train)\n",
    "Xq_val = preprocessor_q.transform(Xq_val)"
   ]
  },
  {
   "cell_type": "code",
   "execution_count": 26,
   "id": "621ef440",
   "metadata": {},
   "outputs": [
    {
     "data": {
      "text/plain": [
       "array([[ 1.        ,  0.        ,  0.        , ...,  0.7458663 ,\n",
       "         0.05913851, -0.23191583],\n",
       "       [ 0.        ,  1.        ,  0.        , ..., -1.00081093,\n",
       "        -1.09577681, -1.02997374],\n",
       "       [ 0.        ,  0.        ,  1.        , ...,  1.57910263,\n",
       "         1.84857253,  2.03811556],\n",
       "       ...,\n",
       "       [ 0.        ,  0.        ,  1.        , ..., -0.53295096,\n",
       "        -0.44756347, -0.38088664],\n",
       "       [ 0.        ,  0.        ,  1.        , ...,  0.67902916,\n",
       "         0.32846659, -0.04747578],\n",
       "       [ 1.        ,  0.        ,  0.        , ...,  0.81715925,\n",
       "         0.44258866,  0.20790275]])"
      ]
     },
     "execution_count": 26,
     "metadata": {},
     "output_type": "execute_result"
    }
   ],
   "source": [
    "Xq_train"
   ]
  },
  {
   "cell_type": "code",
   "execution_count": 27,
   "id": "30e6d0aa",
   "metadata": {},
   "outputs": [
    {
     "data": {
      "text/plain": [
       "array([[0., 1., 0., 0.],\n",
       "       [1., 0., 0., 0.],\n",
       "       [0., 0., 0., 1.],\n",
       "       ...,\n",
       "       [1., 0., 0., 0.],\n",
       "       [1., 0., 0., 0.],\n",
       "       [1., 0., 0., 0.]], dtype=float32)"
      ]
     },
     "execution_count": 27,
     "metadata": {},
     "output_type": "execute_result"
    }
   ],
   "source": [
    "yq_val"
   ]
  },
  {
   "cell_type": "code",
   "execution_count": 28,
   "id": "b1697c4e",
   "metadata": {},
   "outputs": [
    {
     "data": {
      "text/plain": [
       "4"
      ]
     },
     "execution_count": 28,
     "metadata": {},
     "output_type": "execute_result"
    }
   ],
   "source": [
    "output_node = len(abalone_q_labels.unique())\n",
    "output_node"
   ]
  },
  {
   "cell_type": "code",
   "execution_count": 29,
   "id": "a984a730",
   "metadata": {
    "scrolled": true
   },
   "outputs": [
    {
     "data": {
      "text/plain": [
       "10"
      ]
     },
     "execution_count": 29,
     "metadata": {},
     "output_type": "execute_result"
    }
   ],
   "source": [
    "X_train.shape[1]"
   ]
  },
  {
   "cell_type": "code",
   "execution_count": 30,
   "id": "05395116",
   "metadata": {},
   "outputs": [],
   "source": [
    "q_model = tf.keras.Sequential([\n",
    "    layers.Dense(10, activation=\"relu\", input_dim=X_train.shape[1]),\n",
    "    layers.Dense(32, activation=\"relu\"),\n",
    "    layers.Dense(16, activation=\"relu\"),\n",
    "    layers.Dense(output_node, activation=\"softmax\")\n",
    "])\n",
    "\n",
    "q_model.compile(\n",
    "    optimizer=\"adam\",\n",
    "    loss=\"categorical_crossentropy\",\n",
    "    metrics=[\"accuracy\"]\n",
    ")"
   ]
  },
  {
   "cell_type": "code",
   "execution_count": 31,
   "id": "d7e74b5e",
   "metadata": {},
   "outputs": [
    {
     "name": "stdout",
     "output_type": "stream",
     "text": [
      "Model: \"sequential_1\"\n",
      "_________________________________________________________________\n",
      " Layer (type)                Output Shape              Param #   \n",
      "=================================================================\n",
      " dense_4 (Dense)             (None, 10)                110       \n",
      "                                                                 \n",
      " dense_5 (Dense)             (None, 32)                352       \n",
      "                                                                 \n",
      " dense_6 (Dense)             (None, 16)                528       \n",
      "                                                                 \n",
      " dense_7 (Dense)             (None, 4)                 68        \n",
      "                                                                 \n",
      "=================================================================\n",
      "Total params: 1,058\n",
      "Trainable params: 1,058\n",
      "Non-trainable params: 0\n",
      "_________________________________________________________________\n"
     ]
    }
   ],
   "source": [
    "q_model.summary()"
   ]
  },
  {
   "cell_type": "code",
   "execution_count": 32,
   "id": "fd02de62",
   "metadata": {},
   "outputs": [
    {
     "name": "stdout",
     "output_type": "stream",
     "text": [
      "Epoch 1/20\n",
      "279/279 [==============================] - 1s 1ms/step - loss: 1.1071 - accuracy: 0.5183\n",
      "Epoch 2/20\n",
      "279/279 [==============================] - 0s 2ms/step - loss: 0.9991 - accuracy: 0.5866\n",
      "Epoch 3/20\n",
      "279/279 [==============================] - 0s 1ms/step - loss: 0.9764 - accuracy: 0.5920\n",
      "Epoch 4/20\n",
      "279/279 [==============================] - 0s 1ms/step - loss: 0.9647 - accuracy: 0.5898\n",
      "Epoch 5/20\n",
      "279/279 [==============================] - 0s 2ms/step - loss: 0.9545 - accuracy: 0.5945\n",
      "Epoch 6/20\n",
      "279/279 [==============================] - 0s 2ms/step - loss: 0.9483 - accuracy: 0.5963\n",
      "Epoch 7/20\n",
      "279/279 [==============================] - 0s 1ms/step - loss: 0.9382 - accuracy: 0.5970\n",
      "Epoch 8/20\n",
      "279/279 [==============================] - 0s 1ms/step - loss: 0.9348 - accuracy: 0.5991\n",
      "Epoch 9/20\n",
      "279/279 [==============================] - 0s 2ms/step - loss: 0.9317 - accuracy: 0.6009\n",
      "Epoch 10/20\n",
      "279/279 [==============================] - 0s 2ms/step - loss: 0.9266 - accuracy: 0.5945\n",
      "Epoch 11/20\n",
      "279/279 [==============================] - 0s 2ms/step - loss: 0.9260 - accuracy: 0.6020\n",
      "Epoch 12/20\n",
      "279/279 [==============================] - 0s 1ms/step - loss: 0.9242 - accuracy: 0.6074\n",
      "Epoch 13/20\n",
      "279/279 [==============================] - 0s 1ms/step - loss: 0.9254 - accuracy: 0.6060\n",
      "Epoch 14/20\n",
      "279/279 [==============================] - 0s 1ms/step - loss: 0.9202 - accuracy: 0.6056\n",
      "Epoch 15/20\n",
      "279/279 [==============================] - 0s 1ms/step - loss: 0.9207 - accuracy: 0.5988\n",
      "Epoch 16/20\n",
      "279/279 [==============================] - 0s 2ms/step - loss: 0.9188 - accuracy: 0.6081\n",
      "Epoch 17/20\n",
      "279/279 [==============================] - 0s 1ms/step - loss: 0.9174 - accuracy: 0.6067\n",
      "Epoch 18/20\n",
      "279/279 [==============================] - 0s 1ms/step - loss: 0.9190 - accuracy: 0.6103\n",
      "Epoch 19/20\n",
      "279/279 [==============================] - 1s 2ms/step - loss: 0.9148 - accuracy: 0.6103\n",
      "Epoch 20/20\n",
      "279/279 [==============================] - 0s 1ms/step - loss: 0.9140 - accuracy: 0.6056\n"
     ]
    }
   ],
   "source": [
    "fit_q_history = q_model.fit(Xq_train, yq_train, batch_size=10, epochs=20)"
   ]
  },
  {
   "cell_type": "code",
   "execution_count": 33,
   "id": "44fb611c",
   "metadata": {},
   "outputs": [
    {
     "name": "stdout",
     "output_type": "stream",
     "text": [
      "44/44 [==============================] - 0s 2ms/step - loss: 0.9516 - accuracy: 0.5966\n"
     ]
    },
    {
     "data": {
      "text/plain": [
       "[0.951585590839386, 0.5965542197227478]"
      ]
     },
     "execution_count": 33,
     "metadata": {},
     "output_type": "execute_result"
    }
   ],
   "source": [
    "q_model.evaluate(Xq_val, yq_val)"
   ]
  },
  {
   "cell_type": "code",
   "execution_count": 34,
   "id": "3b30e382",
   "metadata": {},
   "outputs": [
    {
     "name": "stdout",
     "output_type": "stream",
     "text": [
      "1/1 [==============================] - 0s 63ms/step\n"
     ]
    },
    {
     "data": {
      "text/plain": [
       "array([[0.04479573, 0.14136407, 0.38058192, 0.43325827],\n",
       "       [0.2411542 , 0.35287958, 0.32650477, 0.07946154],\n",
       "       [0.00690744, 0.01662951, 0.09254908, 0.883914  ],\n",
       "       [0.03807124, 0.1609039 , 0.46623766, 0.33478713],\n",
       "       [0.03867381, 0.0577251 , 0.1585014 , 0.7450998 ]], dtype=float32)"
      ]
     },
     "execution_count": 34,
     "metadata": {},
     "output_type": "execute_result"
    }
   ],
   "source": [
    "q_model.predict(Xq_val[:5])"
   ]
  },
  {
   "cell_type": "code",
   "execution_count": 35,
   "id": "5c7187e3",
   "metadata": {},
   "outputs": [
    {
     "name": "stdout",
     "output_type": "stream",
     "text": [
      "1/1 [==============================] - 0s 21ms/step\n"
     ]
    },
    {
     "data": {
      "text/plain": [
       "array([3, 1, 3, 2, 3], dtype=int64)"
      ]
     },
     "execution_count": 35,
     "metadata": {},
     "output_type": "execute_result"
    }
   ],
   "source": [
    "np.argmax(q_model.predict(Xq_val[:5]), -1)"
   ]
  },
  {
   "cell_type": "code",
   "execution_count": 36,
   "id": "a9912394",
   "metadata": {},
   "outputs": [
    {
     "data": {
      "text/plain": [
       "array([1, 0, 3, 1, 3], dtype=int64)"
      ]
     },
     "execution_count": 36,
     "metadata": {},
     "output_type": "execute_result"
    }
   ],
   "source": [
    "np.argmax(yq_val[:5], -1)"
   ]
  },
  {
   "cell_type": "markdown",
   "id": "1e43fc69",
   "metadata": {},
   "source": [
    "# Confronto"
   ]
  },
  {
   "cell_type": "code",
   "execution_count": 41,
   "id": "8f33ac0f",
   "metadata": {},
   "outputs": [
    {
     "data": {
      "image/png": "[encoded data removed]",
      "text/plain": [
       "<Figure size 640x480 with 1 Axes>"
      ]
     },
     "metadata": {},
     "output_type": "display_data"
    }
   ],
   "source": [
    "plt.plot(fit_history.history[\"loss\"], \"ro-\")\n",
    "plt.plot(fit_q_history.history[\"loss\"], \"bo-\")\n",
    "plt.legend([\"Age Model\", \"Quartile Model\"])\n",
    "plt.ylabel(\"Loss\");\n",
    "plt.xlabel(\"Epochs\");"
   ]
  },
  {
   "cell_type": "code",
   "execution_count": 42,
   "id": "4fee998f",
   "metadata": {},
   "outputs": [
    {
     "data": {
      "image/png": "[encoded data removed]",
      "text/plain": [
       "<Figure size 640x480 with 1 Axes>"
      ]
     },
     "metadata": {},
     "output_type": "display_data"
    }
   ],
   "source": [
    "plt.plot(fit_history.history[\"accuracy\"], \"ro-\")\n",
    "plt.plot(fit_q_history.history[\"accuracy\"], \"bo-\")\n",
    "plt.legend([\"Age Model\", \"Quartile Model\"])\n",
    "plt.ylabel(\"Accuracy\");\n",
    "plt.xlabel(\"Epochs\");"
   ]
  },
  {
   "cell_type": "markdown",
   "id": "c3cec010",
   "metadata": {},
   "source": [
    "# Conversione modello TF Lite"
   ]
  },
  {
   "cell_type": "code",
   "execution_count": 43,
   "id": "ad5f69fb",
   "metadata": {},
   "outputs": [],
   "source": [
    "converter = tf.lite.TFLiteConverter.from_keras_model(model)"
   ]
  },
  {
   "cell_type": "code",
   "execution_count": 44,
   "id": "25f3b0fa",
   "metadata": {},
   "outputs": [
    {
     "name": "stdout",
     "output_type": "stream",
     "text": [
      "INFO:tensorflow:Assets written to: C:\\Users\\Albi\\AppData\\Local\\Temp\\tmp5geodlq0\\assets\n"
     ]
    }
   ],
   "source": [
    "tflite_model = converter.convert()"
   ]
  },
  {
   "cell_type": "code",
   "execution_count": 45,
   "id": "4a3903d7",
   "metadata": {},
   "outputs": [],
   "source": [
    "with tf.io.gfile.GFile(\"model.tflite\", \"wb\") as f:\n",
    "    f.write(tflite_model)"
   ]
  },
  {
   "cell_type": "code",
   "execution_count": null,
   "id": "a70bc702",
   "metadata": {},
   "outputs": [],
   "source": []
  }
 ],
 "metadata": {
  "kernelspec": {
   "display_name": "Python 3 (ipykernel)",
   "language": "python",
   "name": "python3"
  },
  "language_info": {
   "codemirror_mode": {
    "name": "ipython",
    "version": 3
   },
   "file_extension": ".py",
   "mimetype": "text/x-python",
   "name": "python",
   "nbconvert_exporter": "python",
   "pygments_lexer": "ipython3",
   "version": "3.9.15"
  }
 },
 "nbformat": 4,
 "nbformat_minor": 5
}
