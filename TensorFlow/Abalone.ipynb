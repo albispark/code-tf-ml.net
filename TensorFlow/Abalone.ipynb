{
 "cells": [
  {
   "cell_type": "code",
   "execution_count": 1,
   "id": "546c6b82",
   "metadata": {},
   "outputs": [],
   "source": [
    "import pandas as pd\n",
    "import numpy as np\n",
    "import matplotlib.pyplot as plt\n",
    "\n",
    "# Make numpy values easier to read.\n",
    "# np.set_printoptions(precision=3, suppress=True)\n",
    "\n",
    "import tensorflow as tf\n",
    "from tensorflow.keras import layers"
   ]
  },
  {
   "cell_type": "code",
   "execution_count": 2,
   "id": "88deb60d",
   "metadata": {
    "scrolled": true
   },
   "outputs": [
    {
     "data": {
      "text/html": [
       "<div>\n",
       "<style scoped>\n",
       "    .dataframe tbody tr th:only-of-type {\n",
       "        vertical-align: middle;\n",
       "    }\n",
       "\n",
       "    .dataframe tbody tr th {\n",
       "        vertical-align: top;\n",
       "    }\n",
       "\n",
       "    .dataframe thead th {\n",
       "        text-align: right;\n",
       "    }\n",
       "</style>\n",
       "<table border=\"1\" class=\"dataframe\">\n",
       "  <thead>\n",
       "    <tr style=\"text-align: right;\">\n",
       "      <th></th>\n",
       "      <th>Sex</th>\n",
       "      <th>Length</th>\n",
       "      <th>Diameter</th>\n",
       "      <th>Height</th>\n",
       "      <th>Whole weight</th>\n",
       "      <th>Shucked weight</th>\n",
       "      <th>Viscera weight</th>\n",
       "      <th>Shell weight</th>\n",
       "      <th>Rings</th>\n",
       "    </tr>\n",
       "  </thead>\n",
       "  <tbody>\n",
       "    <tr>\n",
       "      <th>0</th>\n",
       "      <td>M</td>\n",
       "      <td>0.455</td>\n",
       "      <td>0.365</td>\n",
       "      <td>0.095</td>\n",
       "      <td>0.5140</td>\n",
       "      <td>0.2245</td>\n",
       "      <td>0.1010</td>\n",
       "      <td>0.1500</td>\n",
       "      <td>15</td>\n",
       "    </tr>\n",
       "    <tr>\n",
       "      <th>1</th>\n",
       "      <td>M</td>\n",
       "      <td>0.350</td>\n",
       "      <td>0.265</td>\n",
       "      <td>0.090</td>\n",
       "      <td>0.2255</td>\n",
       "      <td>0.0995</td>\n",
       "      <td>0.0485</td>\n",
       "      <td>0.0700</td>\n",
       "      <td>7</td>\n",
       "    </tr>\n",
       "    <tr>\n",
       "      <th>2</th>\n",
       "      <td>F</td>\n",
       "      <td>0.530</td>\n",
       "      <td>0.420</td>\n",
       "      <td>0.135</td>\n",
       "      <td>0.6770</td>\n",
       "      <td>0.2565</td>\n",
       "      <td>0.1415</td>\n",
       "      <td>0.2100</td>\n",
       "      <td>9</td>\n",
       "    </tr>\n",
       "    <tr>\n",
       "      <th>3</th>\n",
       "      <td>M</td>\n",
       "      <td>0.440</td>\n",
       "      <td>0.365</td>\n",
       "      <td>0.125</td>\n",
       "      <td>0.5160</td>\n",
       "      <td>0.2155</td>\n",
       "      <td>0.1140</td>\n",
       "      <td>0.1550</td>\n",
       "      <td>10</td>\n",
       "    </tr>\n",
       "    <tr>\n",
       "      <th>4</th>\n",
       "      <td>I</td>\n",
       "      <td>0.330</td>\n",
       "      <td>0.255</td>\n",
       "      <td>0.080</td>\n",
       "      <td>0.2050</td>\n",
       "      <td>0.0895</td>\n",
       "      <td>0.0395</td>\n",
       "      <td>0.0550</td>\n",
       "      <td>7</td>\n",
       "    </tr>\n",
       "    <tr>\n",
       "      <th>...</th>\n",
       "      <td>...</td>\n",
       "      <td>...</td>\n",
       "      <td>...</td>\n",
       "      <td>...</td>\n",
       "      <td>...</td>\n",
       "      <td>...</td>\n",
       "      <td>...</td>\n",
       "      <td>...</td>\n",
       "      <td>...</td>\n",
       "    </tr>\n",
       "    <tr>\n",
       "      <th>4172</th>\n",
       "      <td>F</td>\n",
       "      <td>0.565</td>\n",
       "      <td>0.450</td>\n",
       "      <td>0.165</td>\n",
       "      <td>0.8870</td>\n",
       "      <td>0.3700</td>\n",
       "      <td>0.2390</td>\n",
       "      <td>0.2490</td>\n",
       "      <td>11</td>\n",
       "    </tr>\n",
       "    <tr>\n",
       "      <th>4173</th>\n",
       "      <td>M</td>\n",
       "      <td>0.590</td>\n",
       "      <td>0.440</td>\n",
       "      <td>0.135</td>\n",
       "      <td>0.9660</td>\n",
       "      <td>0.4390</td>\n",
       "      <td>0.2145</td>\n",
       "      <td>0.2605</td>\n",
       "      <td>10</td>\n",
       "    </tr>\n",
       "    <tr>\n",
       "      <th>4174</th>\n",
       "      <td>M</td>\n",
       "      <td>0.600</td>\n",
       "      <td>0.475</td>\n",
       "      <td>0.205</td>\n",
       "      <td>1.1760</td>\n",
       "      <td>0.5255</td>\n",
       "      <td>0.2875</td>\n",
       "      <td>0.3080</td>\n",
       "      <td>9</td>\n",
       "    </tr>\n",
       "    <tr>\n",
       "      <th>4175</th>\n",
       "      <td>F</td>\n",
       "      <td>0.625</td>\n",
       "      <td>0.485</td>\n",
       "      <td>0.150</td>\n",
       "      <td>1.0945</td>\n",
       "      <td>0.5310</td>\n",
       "      <td>0.2610</td>\n",
       "      <td>0.2960</td>\n",
       "      <td>10</td>\n",
       "    </tr>\n",
       "    <tr>\n",
       "      <th>4176</th>\n",
       "      <td>M</td>\n",
       "      <td>0.710</td>\n",
       "      <td>0.555</td>\n",
       "      <td>0.195</td>\n",
       "      <td>1.9485</td>\n",
       "      <td>0.9455</td>\n",
       "      <td>0.3765</td>\n",
       "      <td>0.4950</td>\n",
       "      <td>12</td>\n",
       "    </tr>\n",
       "  </tbody>\n",
       "</table>\n",
       "<p>4177 rows × 9 columns</p>\n",
       "</div>"
      ],
      "text/plain": [
       "     Sex  Length  Diameter  Height  Whole weight  Shucked weight  \\\n",
       "0      M   0.455     0.365   0.095        0.5140          0.2245   \n",
       "1      M   0.350     0.265   0.090        0.2255          0.0995   \n",
       "2      F   0.530     0.420   0.135        0.6770          0.2565   \n",
       "3      M   0.440     0.365   0.125        0.5160          0.2155   \n",
       "4      I   0.330     0.255   0.080        0.2050          0.0895   \n",
       "...   ..     ...       ...     ...           ...             ...   \n",
       "4172   F   0.565     0.450   0.165        0.8870          0.3700   \n",
       "4173   M   0.590     0.440   0.135        0.9660          0.4390   \n",
       "4174   M   0.600     0.475   0.205        1.1760          0.5255   \n",
       "4175   F   0.625     0.485   0.150        1.0945          0.5310   \n",
       "4176   M   0.710     0.555   0.195        1.9485          0.9455   \n",
       "\n",
       "      Viscera weight  Shell weight  Rings  \n",
       "0             0.1010        0.1500     15  \n",
       "1             0.0485        0.0700      7  \n",
       "2             0.1415        0.2100      9  \n",
       "3             0.1140        0.1550     10  \n",
       "4             0.0395        0.0550      7  \n",
       "...              ...           ...    ...  \n",
       "4172          0.2390        0.2490     11  \n",
       "4173          0.2145        0.2605     10  \n",
       "4174          0.2875        0.3080      9  \n",
       "4175          0.2610        0.2960     10  \n",
       "4176          0.3765        0.4950     12  \n",
       "\n",
       "[4177 rows x 9 columns]"
      ]
     },
     "execution_count": 2,
     "metadata": {},
     "output_type": "execute_result"
    }
   ],
   "source": [
    "data = pd.read_csv(\"data/abalone.csv\")\n",
    "data"
   ]
  },
  {
   "cell_type": "code",
   "execution_count": 3,
   "id": "497bd472",
   "metadata": {},
   "outputs": [],
   "source": [
    "abalone_features = data\n",
    "abalone_labels = abalone_features.pop('Rings')"
   ]
  },
  {
   "cell_type": "code",
   "execution_count": 4,
   "id": "d912d6cf",
   "metadata": {},
   "outputs": [
    {
     "data": {
      "text/html": [
       "<div>\n",
       "<style scoped>\n",
       "    .dataframe tbody tr th:only-of-type {\n",
       "        vertical-align: middle;\n",
       "    }\n",
       "\n",
       "    .dataframe tbody tr th {\n",
       "        vertical-align: top;\n",
       "    }\n",
       "\n",
       "    .dataframe thead th {\n",
       "        text-align: right;\n",
       "    }\n",
       "</style>\n",
       "<table border=\"1\" class=\"dataframe\">\n",
       "  <thead>\n",
       "    <tr style=\"text-align: right;\">\n",
       "      <th></th>\n",
       "      <th>Sex</th>\n",
       "      <th>Length</th>\n",
       "      <th>Diameter</th>\n",
       "      <th>Height</th>\n",
       "      <th>Whole weight</th>\n",
       "      <th>Shucked weight</th>\n",
       "      <th>Viscera weight</th>\n",
       "      <th>Shell weight</th>\n",
       "    </tr>\n",
       "  </thead>\n",
       "  <tbody>\n",
       "    <tr>\n",
       "      <th>0</th>\n",
       "      <td>M</td>\n",
       "      <td>0.455</td>\n",
       "      <td>0.365</td>\n",
       "      <td>0.095</td>\n",
       "      <td>0.5140</td>\n",
       "      <td>0.2245</td>\n",
       "      <td>0.1010</td>\n",
       "      <td>0.1500</td>\n",
       "    </tr>\n",
       "    <tr>\n",
       "      <th>1</th>\n",
       "      <td>M</td>\n",
       "      <td>0.350</td>\n",
       "      <td>0.265</td>\n",
       "      <td>0.090</td>\n",
       "      <td>0.2255</td>\n",
       "      <td>0.0995</td>\n",
       "      <td>0.0485</td>\n",
       "      <td>0.0700</td>\n",
       "    </tr>\n",
       "    <tr>\n",
       "      <th>2</th>\n",
       "      <td>F</td>\n",
       "      <td>0.530</td>\n",
       "      <td>0.420</td>\n",
       "      <td>0.135</td>\n",
       "      <td>0.6770</td>\n",
       "      <td>0.2565</td>\n",
       "      <td>0.1415</td>\n",
       "      <td>0.2100</td>\n",
       "    </tr>\n",
       "    <tr>\n",
       "      <th>3</th>\n",
       "      <td>M</td>\n",
       "      <td>0.440</td>\n",
       "      <td>0.365</td>\n",
       "      <td>0.125</td>\n",
       "      <td>0.5160</td>\n",
       "      <td>0.2155</td>\n",
       "      <td>0.1140</td>\n",
       "      <td>0.1550</td>\n",
       "    </tr>\n",
       "    <tr>\n",
       "      <th>4</th>\n",
       "      <td>I</td>\n",
       "      <td>0.330</td>\n",
       "      <td>0.255</td>\n",
       "      <td>0.080</td>\n",
       "      <td>0.2050</td>\n",
       "      <td>0.0895</td>\n",
       "      <td>0.0395</td>\n",
       "      <td>0.0550</td>\n",
       "    </tr>\n",
       "    <tr>\n",
       "      <th>...</th>\n",
       "      <td>...</td>\n",
       "      <td>...</td>\n",
       "      <td>...</td>\n",
       "      <td>...</td>\n",
       "      <td>...</td>\n",
       "      <td>...</td>\n",
       "      <td>...</td>\n",
       "      <td>...</td>\n",
       "    </tr>\n",
       "    <tr>\n",
       "      <th>4172</th>\n",
       "      <td>F</td>\n",
       "      <td>0.565</td>\n",
       "      <td>0.450</td>\n",
       "      <td>0.165</td>\n",
       "      <td>0.8870</td>\n",
       "      <td>0.3700</td>\n",
       "      <td>0.2390</td>\n",
       "      <td>0.2490</td>\n",
       "    </tr>\n",
       "    <tr>\n",
       "      <th>4173</th>\n",
       "      <td>M</td>\n",
       "      <td>0.590</td>\n",
       "      <td>0.440</td>\n",
       "      <td>0.135</td>\n",
       "      <td>0.9660</td>\n",
       "      <td>0.4390</td>\n",
       "      <td>0.2145</td>\n",
       "      <td>0.2605</td>\n",
       "    </tr>\n",
       "    <tr>\n",
       "      <th>4174</th>\n",
       "      <td>M</td>\n",
       "      <td>0.600</td>\n",
       "      <td>0.475</td>\n",
       "      <td>0.205</td>\n",
       "      <td>1.1760</td>\n",
       "      <td>0.5255</td>\n",
       "      <td>0.2875</td>\n",
       "      <td>0.3080</td>\n",
       "    </tr>\n",
       "    <tr>\n",
       "      <th>4175</th>\n",
       "      <td>F</td>\n",
       "      <td>0.625</td>\n",
       "      <td>0.485</td>\n",
       "      <td>0.150</td>\n",
       "      <td>1.0945</td>\n",
       "      <td>0.5310</td>\n",
       "      <td>0.2610</td>\n",
       "      <td>0.2960</td>\n",
       "    </tr>\n",
       "    <tr>\n",
       "      <th>4176</th>\n",
       "      <td>M</td>\n",
       "      <td>0.710</td>\n",
       "      <td>0.555</td>\n",
       "      <td>0.195</td>\n",
       "      <td>1.9485</td>\n",
       "      <td>0.9455</td>\n",
       "      <td>0.3765</td>\n",
       "      <td>0.4950</td>\n",
       "    </tr>\n",
       "  </tbody>\n",
       "</table>\n",
       "<p>4177 rows × 8 columns</p>\n",
       "</div>"
      ],
      "text/plain": [
       "     Sex  Length  Diameter  Height  Whole weight  Shucked weight  \\\n",
       "0      M   0.455     0.365   0.095        0.5140          0.2245   \n",
       "1      M   0.350     0.265   0.090        0.2255          0.0995   \n",
       "2      F   0.530     0.420   0.135        0.6770          0.2565   \n",
       "3      M   0.440     0.365   0.125        0.5160          0.2155   \n",
       "4      I   0.330     0.255   0.080        0.2050          0.0895   \n",
       "...   ..     ...       ...     ...           ...             ...   \n",
       "4172   F   0.565     0.450   0.165        0.8870          0.3700   \n",
       "4173   M   0.590     0.440   0.135        0.9660          0.4390   \n",
       "4174   M   0.600     0.475   0.205        1.1760          0.5255   \n",
       "4175   F   0.625     0.485   0.150        1.0945          0.5310   \n",
       "4176   M   0.710     0.555   0.195        1.9485          0.9455   \n",
       "\n",
       "      Viscera weight  Shell weight  \n",
       "0             0.1010        0.1500  \n",
       "1             0.0485        0.0700  \n",
       "2             0.1415        0.2100  \n",
       "3             0.1140        0.1550  \n",
       "4             0.0395        0.0550  \n",
       "...              ...           ...  \n",
       "4172          0.2390        0.2490  \n",
       "4173          0.2145        0.2605  \n",
       "4174          0.2875        0.3080  \n",
       "4175          0.2610        0.2960  \n",
       "4176          0.3765        0.4950  \n",
       "\n",
       "[4177 rows x 8 columns]"
      ]
     },
     "execution_count": 4,
     "metadata": {},
     "output_type": "execute_result"
    }
   ],
   "source": [
    "abalone_features"
   ]
  },
  {
   "cell_type": "code",
   "execution_count": 5,
   "id": "d74608b8",
   "metadata": {},
   "outputs": [
    {
     "data": {
      "text/plain": [
       "0       15\n",
       "1        7\n",
       "2        9\n",
       "3       10\n",
       "4        7\n",
       "        ..\n",
       "4172    11\n",
       "4173    10\n",
       "4174     9\n",
       "4175    10\n",
       "4176    12\n",
       "Name: Rings, Length: 4177, dtype: int64"
      ]
     },
     "execution_count": 5,
     "metadata": {},
     "output_type": "execute_result"
    }
   ],
   "source": [
    "abalone_labels"
   ]
  },
  {
   "cell_type": "code",
   "execution_count": 6,
   "id": "83e7914b",
   "metadata": {},
   "outputs": [
    {
     "data": {
      "text/plain": [
       "9     689\n",
       "10    634\n",
       "8     568\n",
       "11    487\n",
       "7     391\n",
       "12    267\n",
       "6     259\n",
       "13    203\n",
       "14    126\n",
       "5     115\n",
       "15    103\n",
       "16     67\n",
       "17     58\n",
       "4      57\n",
       "18     42\n",
       "19     32\n",
       "20     26\n",
       "3      15\n",
       "21     14\n",
       "23      9\n",
       "22      6\n",
       "27      2\n",
       "24      2\n",
       "1       1\n",
       "26      1\n",
       "29      1\n",
       "2       1\n",
       "25      1\n",
       "Name: Rings, dtype: int64"
      ]
     },
     "execution_count": 6,
     "metadata": {},
     "output_type": "execute_result"
    }
   ],
   "source": [
    "abalone_labels.value_counts()"
   ]
  },
  {
   "cell_type": "markdown",
   "id": "904cc972",
   "metadata": {},
   "source": [
    "# Classificazione età"
   ]
  },
  {
   "cell_type": "code",
   "execution_count": 7,
   "id": "d116404b",
   "metadata": {},
   "outputs": [],
   "source": [
    "from tensorflow.keras.utils import to_categorical\n",
    "abalone_cat_labels = to_categorical(abalone_labels)"
   ]
  },
  {
   "cell_type": "code",
   "execution_count": 8,
   "id": "34d85b57",
   "metadata": {},
   "outputs": [],
   "source": [
    "from sklearn.model_selection import train_test_split\n",
    "X_train, X_val, y_train, y_val = train_test_split(abalone_features, abalone_cat_labels, test_size=1/3, random_state=42)"
   ]
  },
  {
   "cell_type": "code",
   "execution_count": 9,
   "id": "15211716",
   "metadata": {},
   "outputs": [],
   "source": [
    "# from tensorflow import feature_column\n",
    "from sklearn.preprocessing import OneHotEncoder\n",
    "from sklearn.preprocessing import StandardScaler\n",
    "from sklearn.compose import ColumnTransformer\n",
    "\n",
    "# variabili numeriche\n",
    "numeric_vars = [\"Length\", \"Diameter\", \"Height\", \"Whole weight\", \"Shucked weight\", \"Viscera weight\", \"Shell weight\"]\n",
    "# varibili categoriche\n",
    "categorical_vars = [\"Sex\"]\n",
    "\n",
    "# feature_columns = []\n",
    "# for header in numeric_vars:\n",
    "#     feature_columns.append(tf.feature_column.numeric_column(header))\n",
    "\n",
    "# sex_type = feature_column.categorical_column_with_vocabulary_list('Sex', ['M', 'F', 'I'])\n",
    "# sex_type_one_hot = feature_column.indicator_column(sex_type)\n",
    "# feature_columns.append(sex_type_one_hot)\n",
    "\n",
    "\n",
    "preprocessor = ColumnTransformer([\n",
    "    ( \"categorical\", OneHotEncoder()    , categorical_vars),\n",
    "    ( \"numeric\"    , StandardScaler()   , numeric_vars),\n",
    "])\n",
    "\n",
    "X_train = preprocessor.fit_transform(X_train)\n",
    "X_val = preprocessor.transform(X_val)"
   ]
  },
  {
   "cell_type": "code",
   "execution_count": 10,
   "id": "0461bc42",
   "metadata": {},
   "outputs": [
    {
     "data": {
      "text/plain": [
       "array([ 1.        ,  0.        ,  0.        ,  0.36501294,  0.40649702,\n",
       "        0.22925817,  0.2570285 ,  0.7458663 ,  0.05913851, -0.23191583])"
      ]
     },
     "execution_count": 10,
     "metadata": {},
     "output_type": "execute_result"
    }
   ],
   "source": [
    "X_train[0]"
   ]
  },
  {
   "cell_type": "code",
   "execution_count": 11,
   "id": "f5e111fd",
   "metadata": {},
   "outputs": [
    {
     "data": {
      "text/plain": [
       "(10, 30)"
      ]
     },
     "execution_count": 11,
     "metadata": {},
     "output_type": "execute_result"
    }
   ],
   "source": [
    "X_train.shape[1],  y_train[0].shape[0]"
   ]
  },
  {
   "cell_type": "code",
   "execution_count": 12,
   "id": "e322b086",
   "metadata": {},
   "outputs": [],
   "source": [
    "model = tf.keras.Sequential([\n",
    "    layers.Dense(10, activation=\"relu\", input_dim=X_train.shape[1]),\n",
    "    layers.Dense(32, activation=\"relu\"),\n",
    "    layers.Dense(16, activation=\"relu\"),\n",
    "    layers.Dense(y_train[0].shape[0], activation=\"softmax\")\n",
    "])"
   ]
  },
  {
   "cell_type": "code",
   "execution_count": 13,
   "id": "843fe9dc",
   "metadata": {},
   "outputs": [
    {
     "name": "stdout",
     "output_type": "stream",
     "text": [
      "Model: \"sequential\"\n",
      "_________________________________________________________________\n",
      " Layer (type)                Output Shape              Param #   \n",
      "=================================================================\n",
      " dense (Dense)               (None, 10)                110       \n",
      "                                                                 \n",
      " dense_1 (Dense)             (None, 32)                352       \n",
      "                                                                 \n",
      " dense_2 (Dense)             (None, 16)                528       \n",
      "                                                                 \n",
      " dense_3 (Dense)             (None, 30)                510       \n",
      "                                                                 \n",
      "=================================================================\n",
      "Total params: 1,500\n",
      "Trainable params: 1,500\n",
      "Non-trainable params: 0\n",
      "_________________________________________________________________\n"
     ]
    }
   ],
   "source": [
    "model.summary()"
   ]
  },
  {
   "cell_type": "code",
   "execution_count": 14,
   "id": "5d21f916",
   "metadata": {},
   "outputs": [],
   "source": [
    "model.compile(\n",
    "    optimizer=\"adam\",\n",
    "    loss=\"categorical_crossentropy\",\n",
    "    metrics=[\"accuracy\"]\n",
    ")"
   ]
  },
  {
   "cell_type": "code",
   "execution_count": 15,
   "id": "324f08e0",
   "metadata": {},
   "outputs": [
    {
     "name": "stdout",
     "output_type": "stream",
     "text": [
      "Epoch 1/20\n",
      "279/279 [==============================] - 1s 2ms/step - loss: 2.8003 - accuracy: 0.1818\n",
      "Epoch 2/20\n",
      "279/279 [==============================] - 0s 1ms/step - loss: 2.2491 - accuracy: 0.2320\n",
      "Epoch 3/20\n",
      "279/279 [==============================] - 0s 2ms/step - loss: 2.1179 - accuracy: 0.2529\n",
      "Epoch 4/20\n",
      "279/279 [==============================] - 0s 2ms/step - loss: 2.0498 - accuracy: 0.2619\n",
      "Epoch 5/20\n",
      "279/279 [==============================] - 0s 2ms/step - loss: 2.0084 - accuracy: 0.2619\n",
      "Epoch 6/20\n",
      "279/279 [==============================] - 0s 2ms/step - loss: 1.9836 - accuracy: 0.2723\n",
      "Epoch 7/20\n",
      "279/279 [==============================] - 0s 2ms/step - loss: 1.9652 - accuracy: 0.2669\n",
      "Epoch 8/20\n",
      "279/279 [==============================] - 0s 2ms/step - loss: 1.9468 - accuracy: 0.2741\n",
      "Epoch 9/20\n",
      "279/279 [==============================] - 0s 2ms/step - loss: 1.9394 - accuracy: 0.2773\n",
      "Epoch 10/20\n",
      "279/279 [==============================] - 0s 2ms/step - loss: 1.9348 - accuracy: 0.2780\n",
      "Epoch 11/20\n",
      "279/279 [==============================] - 0s 2ms/step - loss: 1.9246 - accuracy: 0.2741\n",
      "Epoch 12/20\n",
      "279/279 [==============================] - 0s 1ms/step - loss: 1.9205 - accuracy: 0.2777\n",
      "Epoch 13/20\n",
      "279/279 [==============================] - 0s 2ms/step - loss: 1.9172 - accuracy: 0.2748\n",
      "Epoch 14/20\n",
      "279/279 [==============================] - 0s 1ms/step - loss: 1.9112 - accuracy: 0.2852\n",
      "Epoch 15/20\n",
      "279/279 [==============================] - 0s 1ms/step - loss: 1.9050 - accuracy: 0.2892\n",
      "Epoch 16/20\n",
      "279/279 [==============================] - 0s 1ms/step - loss: 1.9062 - accuracy: 0.2870\n",
      "Epoch 17/20\n",
      "279/279 [==============================] - 0s 1ms/step - loss: 1.9008 - accuracy: 0.2787\n",
      "Epoch 18/20\n",
      "279/279 [==============================] - 0s 1ms/step - loss: 1.8998 - accuracy: 0.2798\n",
      "Epoch 19/20\n",
      "279/279 [==============================] - 0s 2ms/step - loss: 1.9014 - accuracy: 0.2866\n",
      "Epoch 20/20\n",
      "279/279 [==============================] - 0s 1ms/step - loss: 1.8912 - accuracy: 0.2766\n"
     ]
    }
   ],
   "source": [
    "fit_history = model.fit(X_train, y_train, batch_size=10, epochs=20)"
   ]
  },
  {
   "cell_type": "code",
   "execution_count": 16,
   "id": "ecd808e8",
   "metadata": {
    "scrolled": true
   },
   "outputs": [
    {
     "name": "stdout",
     "output_type": "stream",
     "text": [
      "44/44 [==============================] - 0s 1ms/step - loss: 1.9441 - accuracy: 0.2979\n"
     ]
    },
    {
     "data": {
      "text/plain": [
       "[1.944078803062439, 0.2979181706905365]"
      ]
     },
     "execution_count": 16,
     "metadata": {},
     "output_type": "execute_result"
    }
   ],
   "source": [
    "model.evaluate(X_val, y_val)"
   ]
  },
  {
   "cell_type": "code",
   "execution_count": 17,
   "id": "c1e6162f",
   "metadata": {},
   "outputs": [
    {
     "name": "stdout",
     "output_type": "stream",
     "text": [
      "1/1 [==============================] - 0s 105ms/step\n"
     ]
    },
    {
     "data": {
      "text/plain": [
       "array([[1.34348397e-06, 2.50015745e-07, 1.59250794e-06, 4.42580017e-07,\n",
       "        1.97467034e-05, 1.70397434e-05, 5.00823313e-04, 2.34310795e-03,\n",
       "        2.31178738e-02, 9.90232825e-02, 2.14279160e-01, 1.50229499e-01,\n",
       "        8.82461593e-02, 1.36809438e-01, 9.16501135e-02, 6.55951053e-02,\n",
       "        3.18309441e-02, 2.99424101e-02, 2.00424343e-02, 2.31122971e-02,\n",
       "        1.20920427e-02, 7.78207183e-03, 9.34625685e-04, 1.10723602e-03,\n",
       "        8.91484160e-05, 4.13187481e-05, 3.03531851e-04, 7.59805771e-05,\n",
       "        1.01907096e-06, 8.09921708e-04],\n",
       "       [9.86995659e-08, 8.19666390e-10, 1.39092080e-07, 8.07510236e-09,\n",
       "        1.92217203e-06, 3.01295440e-05, 2.51991325e-03, 1.86425634e-02,\n",
       "        1.41725481e-01, 2.92173207e-01, 2.89218843e-01, 1.22480854e-01,\n",
       "        4.43258621e-02, 3.31052244e-02, 2.73755752e-02, 1.70242731e-02,\n",
       "        3.29145789e-03, 1.39523484e-03, 2.22269190e-03, 2.90130707e-03,\n",
       "        7.56957626e-04, 7.26729224e-04, 8.41860412e-07, 7.46212027e-05,\n",
       "        3.56359884e-08, 4.08902316e-08, 4.70424266e-06, 1.00600566e-07,\n",
       "        3.03924566e-08, 1.23943528e-06]], dtype=float32)"
      ]
     },
     "execution_count": 17,
     "metadata": {},
     "output_type": "execute_result"
    }
   ],
   "source": [
    "model.predict(X_val[:2])"
   ]
  },
  {
   "cell_type": "code",
   "execution_count": 18,
   "id": "d1955338",
   "metadata": {},
   "outputs": [
    {
     "name": "stdout",
     "output_type": "stream",
     "text": [
      "1/1 [==============================] - 0s 24ms/step\n"
     ]
    },
    {
     "data": {
      "text/plain": [
       "array([10,  9, 13, 10, 13], dtype=int64)"
      ]
     },
     "execution_count": 18,
     "metadata": {},
     "output_type": "execute_result"
    }
   ],
   "source": [
    "np.argmax(model.predict(X_val[:5]), -1)"
   ]
  },
  {
   "cell_type": "code",
   "execution_count": 19,
   "id": "2ebe2d35",
   "metadata": {},
   "outputs": [
    {
     "data": {
      "text/plain": [
       "array([ 9,  8, 16,  9, 14], dtype=int64)"
      ]
     },
     "execution_count": 19,
     "metadata": {},
     "output_type": "execute_result"
    }
   ],
   "source": [
    "np.argmax(y_val[:5], -1)"
   ]
  },
  {
   "cell_type": "markdown",
   "id": "c540486d",
   "metadata": {},
   "source": [
    "# Classificazione quartili"
   ]
  },
  {
   "cell_type": "code",
   "execution_count": 20,
   "id": "91bb8a4d",
   "metadata": {},
   "outputs": [
    {
     "name": "stdout",
     "output_type": "stream",
     "text": [
      "0       (11.0, 29.0]\n",
      "1       (0.999, 8.0]\n",
      "2         (8.0, 9.0]\n",
      "3        (9.0, 11.0]\n",
      "4       (0.999, 8.0]\n",
      "            ...     \n",
      "4172     (9.0, 11.0]\n",
      "4173     (9.0, 11.0]\n",
      "4174      (8.0, 9.0]\n",
      "4175     (9.0, 11.0]\n",
      "4176    (11.0, 29.0]\n",
      "Name: Rings, Length: 4177, dtype: category\n",
      "Categories (4, interval[float64, right]): [(0.999, 8.0] < (8.0, 9.0] < (9.0, 11.0] < (11.0, 29.0]]\n",
      "\n",
      "One hot encoding:\n",
      " [[0. 0. 0. 1.]\n",
      " [1. 0. 0. 0.]\n",
      " [0. 1. 0. 0.]\n",
      " ...\n",
      " [0. 1. 0. 0.]\n",
      " [0. 0. 1. 0.]\n",
      " [0. 0. 0. 1.]]\n"
     ]
    }
   ],
   "source": [
    "from sklearn.preprocessing import LabelEncoder\n",
    "from tensorflow.keras.utils import to_categorical\n",
    "\n",
    "abalone_q_labels = pd.qcut(abalone_labels, 4)\n",
    "print(abalone_q_labels)\n",
    "encoder = LabelEncoder()\n",
    "encoder.fit(abalone_q_labels)\n",
    "encoded_Y = encoder.transform(abalone_q_labels)\n",
    "# convert integers to dummy variables (i.e. one hot encoded)\n",
    "abalone_q_onehot_labels = to_categorical(encoded_Y)\n",
    "print(\"\\nOne hot encoding:\\n\", abalone_q_onehot_labels)"
   ]
  },
  {
   "cell_type": "code",
   "execution_count": 21,
   "id": "3cb1862c",
   "metadata": {},
   "outputs": [],
   "source": [
    "Xq_train, Xq_val, yq_train, yq_val = train_test_split(abalone_features, abalone_q_onehot_labels, test_size=1/3, random_state=42)"
   ]
  },
  {
   "cell_type": "code",
   "execution_count": 22,
   "id": "2a150e2f",
   "metadata": {},
   "outputs": [],
   "source": [
    "preprocessor_q = ColumnTransformer([\n",
    "    ( \"categorical\", OneHotEncoder()    , categorical_vars),\n",
    "    ( \"numeric\"    , StandardScaler()   , numeric_vars),\n",
    "])\n",
    "\n",
    "Xq_train = preprocessor_q.fit_transform(Xq_train)\n",
    "Xq_val = preprocessor_q.transform(Xq_val)"
   ]
  },
  {
   "cell_type": "code",
   "execution_count": 23,
   "id": "621ef440",
   "metadata": {},
   "outputs": [
    {
     "data": {
      "text/plain": [
       "array([[ 1.        ,  0.        ,  0.        , ...,  0.7458663 ,\n",
       "         0.05913851, -0.23191583],\n",
       "       [ 0.        ,  1.        ,  0.        , ..., -1.00081093,\n",
       "        -1.09577681, -1.02997374],\n",
       "       [ 0.        ,  0.        ,  1.        , ...,  1.57910263,\n",
       "         1.84857253,  2.03811556],\n",
       "       ...,\n",
       "       [ 0.        ,  0.        ,  1.        , ..., -0.53295096,\n",
       "        -0.44756347, -0.38088664],\n",
       "       [ 0.        ,  0.        ,  1.        , ...,  0.67902916,\n",
       "         0.32846659, -0.04747578],\n",
       "       [ 1.        ,  0.        ,  0.        , ...,  0.81715925,\n",
       "         0.44258866,  0.20790275]])"
      ]
     },
     "execution_count": 23,
     "metadata": {},
     "output_type": "execute_result"
    }
   ],
   "source": [
    "Xq_train"
   ]
  },
  {
   "cell_type": "code",
   "execution_count": 24,
   "id": "30e6d0aa",
   "metadata": {},
   "outputs": [
    {
     "data": {
      "text/plain": [
       "array([[0., 1., 0., 0.],\n",
       "       [1., 0., 0., 0.],\n",
       "       [0., 0., 0., 1.],\n",
       "       ...,\n",
       "       [1., 0., 0., 0.],\n",
       "       [1., 0., 0., 0.],\n",
       "       [1., 0., 0., 0.]], dtype=float32)"
      ]
     },
     "execution_count": 24,
     "metadata": {},
     "output_type": "execute_result"
    }
   ],
   "source": [
    "yq_val"
   ]
  },
  {
   "cell_type": "code",
   "execution_count": 25,
   "id": "b1697c4e",
   "metadata": {},
   "outputs": [
    {
     "data": {
      "text/plain": [
       "4"
      ]
     },
     "execution_count": 25,
     "metadata": {},
     "output_type": "execute_result"
    }
   ],
   "source": [
    "output_node = len(abalone_q_labels.unique())\n",
    "output_node"
   ]
  },
  {
   "cell_type": "code",
   "execution_count": 26,
   "id": "a984a730",
   "metadata": {
    "scrolled": true
   },
   "outputs": [
    {
     "data": {
      "text/plain": [
       "10"
      ]
     },
     "execution_count": 26,
     "metadata": {},
     "output_type": "execute_result"
    }
   ],
   "source": [
    "Xq_train.shape[1]"
   ]
  },
  {
   "cell_type": "code",
   "execution_count": 27,
   "id": "05395116",
   "metadata": {},
   "outputs": [],
   "source": [
    "q_model = tf.keras.Sequential([\n",
    "    layers.Dense(10, activation=\"relu\", input_dim=Xq_train.shape[1]),\n",
    "    layers.Dense(32, activation=\"relu\"),\n",
    "    layers.Dense(16, activation=\"relu\"),\n",
    "    layers.Dense(output_node, activation=\"softmax\")\n",
    "])\n",
    "\n",
    "q_model.compile(\n",
    "    optimizer=\"adam\",\n",
    "    loss=\"categorical_crossentropy\",\n",
    "    metrics=[\"accuracy\"]\n",
    ")"
   ]
  },
  {
   "cell_type": "code",
   "execution_count": 28,
   "id": "d7e74b5e",
   "metadata": {},
   "outputs": [
    {
     "name": "stdout",
     "output_type": "stream",
     "text": [
      "Model: \"sequential_1\"\n",
      "_________________________________________________________________\n",
      " Layer (type)                Output Shape              Param #   \n",
      "=================================================================\n",
      " dense_4 (Dense)             (None, 10)                110       \n",
      "                                                                 \n",
      " dense_5 (Dense)             (None, 32)                352       \n",
      "                                                                 \n",
      " dense_6 (Dense)             (None, 16)                528       \n",
      "                                                                 \n",
      " dense_7 (Dense)             (None, 4)                 68        \n",
      "                                                                 \n",
      "=================================================================\n",
      "Total params: 1,058\n",
      "Trainable params: 1,058\n",
      "Non-trainable params: 0\n",
      "_________________________________________________________________\n"
     ]
    }
   ],
   "source": [
    "q_model.summary()"
   ]
  },
  {
   "cell_type": "code",
   "execution_count": 29,
   "id": "fd02de62",
   "metadata": {},
   "outputs": [
    {
     "name": "stdout",
     "output_type": "stream",
     "text": [
      "Epoch 1/20\n",
      "279/279 [==============================] - 1s 1ms/step - loss: 1.1684 - accuracy: 0.4774\n",
      "Epoch 2/20\n",
      "279/279 [==============================] - 0s 2ms/step - loss: 1.0489 - accuracy: 0.5409\n",
      "Epoch 3/20\n",
      "279/279 [==============================] - 0s 2ms/step - loss: 1.0143 - accuracy: 0.5647\n",
      "Epoch 4/20\n",
      "279/279 [==============================] - 0s 1ms/step - loss: 0.9874 - accuracy: 0.5754\n",
      "Epoch 5/20\n",
      "279/279 [==============================] - 0s 2ms/step - loss: 0.9741 - accuracy: 0.5844\n",
      "Epoch 6/20\n",
      "279/279 [==============================] - 0s 2ms/step - loss: 0.9591 - accuracy: 0.5916\n",
      "Epoch 7/20\n",
      "279/279 [==============================] - 0s 2ms/step - loss: 0.9493 - accuracy: 0.5916\n",
      "Epoch 8/20\n",
      "279/279 [==============================] - 0s 2ms/step - loss: 0.9413 - accuracy: 0.5948\n",
      "Epoch 9/20\n",
      "279/279 [==============================] - 0s 2ms/step - loss: 0.9370 - accuracy: 0.5959\n",
      "Epoch 10/20\n",
      "279/279 [==============================] - 0s 2ms/step - loss: 0.9337 - accuracy: 0.6002\n",
      "Epoch 11/20\n",
      "279/279 [==============================] - 0s 2ms/step - loss: 0.9304 - accuracy: 0.5970\n",
      "Epoch 12/20\n",
      "279/279 [==============================] - 0s 2ms/step - loss: 0.9267 - accuracy: 0.6013\n",
      "Epoch 13/20\n",
      "279/279 [==============================] - 0s 2ms/step - loss: 0.9271 - accuracy: 0.6006\n",
      "Epoch 14/20\n",
      "279/279 [==============================] - 0s 2ms/step - loss: 0.9239 - accuracy: 0.6042\n",
      "Epoch 15/20\n",
      "279/279 [==============================] - 1s 2ms/step - loss: 0.9204 - accuracy: 0.6013\n",
      "Epoch 16/20\n",
      "279/279 [==============================] - 0s 2ms/step - loss: 0.9203 - accuracy: 0.6052\n",
      "Epoch 17/20\n",
      "279/279 [==============================] - 0s 1ms/step - loss: 0.9175 - accuracy: 0.6024\n",
      "Epoch 18/20\n",
      "279/279 [==============================] - 0s 2ms/step - loss: 0.9153 - accuracy: 0.6052\n",
      "Epoch 19/20\n",
      "279/279 [==============================] - 0s 2ms/step - loss: 0.9136 - accuracy: 0.6013\n",
      "Epoch 20/20\n",
      "279/279 [==============================] - 0s 2ms/step - loss: 0.9149 - accuracy: 0.6085\n"
     ]
    }
   ],
   "source": [
    "fit_q_history = q_model.fit(Xq_train, yq_train, batch_size=10, epochs=20)"
   ]
  },
  {
   "cell_type": "code",
   "execution_count": 30,
   "id": "44fb611c",
   "metadata": {},
   "outputs": [
    {
     "name": "stdout",
     "output_type": "stream",
     "text": [
      "44/44 [==============================] - 0s 2ms/step - loss: 0.9514 - accuracy: 0.5944\n"
     ]
    },
    {
     "data": {
      "text/plain": [
       "[0.9513660669326782, 0.5944005846977234]"
      ]
     },
     "execution_count": 30,
     "metadata": {},
     "output_type": "execute_result"
    }
   ],
   "source": [
    "q_model.evaluate(Xq_val, yq_val)"
   ]
  },
  {
   "cell_type": "code",
   "execution_count": 31,
   "id": "3b30e382",
   "metadata": {},
   "outputs": [
    {
     "name": "stdout",
     "output_type": "stream",
     "text": [
      "1/1 [==============================] - 0s 55ms/step\n"
     ]
    },
    {
     "data": {
      "text/plain": [
       "array([[0.01758246, 0.06819052, 0.35650873, 0.5577183 ],\n",
       "       [0.16308536, 0.33732328, 0.39803794, 0.10155345],\n",
       "       [0.00554409, 0.01212774, 0.08421212, 0.898116  ],\n",
       "       [0.03369679, 0.16597562, 0.49751604, 0.3028115 ],\n",
       "       [0.0772901 , 0.09952953, 0.2297562 , 0.59342414]], dtype=float32)"
      ]
     },
     "execution_count": 31,
     "metadata": {},
     "output_type": "execute_result"
    }
   ],
   "source": [
    "q_model.predict(Xq_val[:5])"
   ]
  },
  {
   "cell_type": "code",
   "execution_count": 32,
   "id": "5c7187e3",
   "metadata": {},
   "outputs": [
    {
     "name": "stdout",
     "output_type": "stream",
     "text": [
      "1/1 [==============================] - 0s 19ms/step\n"
     ]
    },
    {
     "data": {
      "text/plain": [
       "array([3, 2, 3, 2, 3], dtype=int64)"
      ]
     },
     "execution_count": 32,
     "metadata": {},
     "output_type": "execute_result"
    }
   ],
   "source": [
    "np.argmax(q_model.predict(Xq_val[:5]), -1)"
   ]
  },
  {
   "cell_type": "code",
   "execution_count": 33,
   "id": "a9912394",
   "metadata": {},
   "outputs": [
    {
     "data": {
      "text/plain": [
       "array([1, 0, 3, 1, 3], dtype=int64)"
      ]
     },
     "execution_count": 33,
     "metadata": {},
     "output_type": "execute_result"
    }
   ],
   "source": [
    "np.argmax(yq_val[:5], -1)"
   ]
  },
  {
   "cell_type": "markdown",
   "id": "1e43fc69",
   "metadata": {},
   "source": [
    "# Confronto"
   ]
  },
  {
   "cell_type": "code",
   "execution_count": 34,
   "id": "8f33ac0f",
   "metadata": {},
   "outputs": [
    {
     "data": {
      "image/png": "[encoded data removed]",
      "text/plain": [
       "<Figure size 640x480 with 1 Axes>"
      ]
     },
     "metadata": {},
     "output_type": "display_data"
    }
   ],
   "source": [
    "plt.plot(fit_history.history[\"loss\"], \"ro-\")\n",
    "plt.plot(fit_q_history.history[\"loss\"], \"bo-\")\n",
    "plt.legend([\"Age Model\", \"Quartile Model\"])\n",
    "plt.ylabel(\"Loss\");\n",
    "plt.xlabel(\"Epochs\");"
   ]
  },
  {
   "cell_type": "code",
   "execution_count": 35,
   "id": "4fee998f",
   "metadata": {},
   "outputs": [
    {
     "data": {
      "image/png": "[encoded data removed]",
      "text/plain": [
       "<Figure size 640x480 with 1 Axes>"
      ]
     },
     "metadata": {},
     "output_type": "display_data"
    }
   ],
   "source": [
    "plt.plot(fit_history.history[\"accuracy\"], \"ro-\")\n",
    "plt.plot(fit_q_history.history[\"accuracy\"], \"bo-\")\n",
    "plt.legend([\"Age Model\", \"Quartile Model\"])\n",
    "plt.ylabel(\"Accuracy\");\n",
    "plt.xlabel(\"Epochs\");"
   ]
  },
  {
   "cell_type": "markdown",
   "id": "c3cec010",
   "metadata": {},
   "source": [
    "# Conversione modello TF Lite"
   ]
  },
  {
   "cell_type": "code",
   "execution_count": null,
   "id": "ad5f69fb",
   "metadata": {},
   "outputs": [],
   "source": [
    "converter = tf.lite.TFLiteConverter.from_keras_model(model)"
   ]
  },
  {
   "cell_type": "code",
   "execution_count": null,
   "id": "25f3b0fa",
   "metadata": {},
   "outputs": [],
   "source": [
    "tflite_model = converter.convert()"
   ]
  },
  {
   "cell_type": "code",
   "execution_count": null,
   "id": "4a3903d7",
   "metadata": {},
   "outputs": [],
   "source": [
    "with tf.io.gfile.GFile(\"model.tflite\", \"wb\") as f:\n",
    "    f.write(tflite_model)"
   ]
  },
  {
   "cell_type": "code",
   "execution_count": null,
   "id": "a70bc702",
   "metadata": {},
   "outputs": [],
   "source": []
  }
 ],
 "metadata": {
  "kernelspec": {
   "display_name": "Python 3 (ipykernel)",
   "language": "python",
   "name": "python3"
  },
  "language_info": {
   "codemirror_mode": {
    "name": "ipython",
    "version": 3
   },
   "file_extension": ".py",
   "mimetype": "text/x-python",
   "name": "python",
   "nbconvert_exporter": "python",
   "pygments_lexer": "ipython3",
   "version": "3.9.15"
  }
 },
 "nbformat": 4,
 "nbformat_minor": 5
}
