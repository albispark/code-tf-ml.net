{
 "cells": [
  {
   "cell_type": "code",
   "execution_count": 2,
   "id": "546c6b82",
   "metadata": {},
   "outputs": [],
   "source": [
    "import pandas as pd\n",
    "import numpy as np\n",
    "import matplotlib.pyplot as plt\n",
    "\n",
    "# Make numpy values easier to read.\n",
    "# np.set_printoptions(precision=3, suppress=True)\n",
    "\n",
    "import tensorflow as tf\n",
    "from tensorflow.keras import layers"
   ]
  },
  {
   "cell_type": "code",
   "execution_count": 3,
   "id": "88deb60d",
   "metadata": {
    "scrolled": true
   },
   "outputs": [
    {
     "data": {
      "text/html": [
       "<div>\n",
       "<style scoped>\n",
       "    .dataframe tbody tr th:only-of-type {\n",
       "        vertical-align: middle;\n",
       "    }\n",
       "\n",
       "    .dataframe tbody tr th {\n",
       "        vertical-align: top;\n",
       "    }\n",
       "\n",
       "    .dataframe thead th {\n",
       "        text-align: right;\n",
       "    }\n",
       "</style>\n",
       "<table border=\"1\" class=\"dataframe\">\n",
       "  <thead>\n",
       "    <tr style=\"text-align: right;\">\n",
       "      <th></th>\n",
       "      <th>Sex</th>\n",
       "      <th>Length</th>\n",
       "      <th>Diameter</th>\n",
       "      <th>Height</th>\n",
       "      <th>Whole weight</th>\n",
       "      <th>Shucked weight</th>\n",
       "      <th>Viscera weight</th>\n",
       "      <th>Shell weight</th>\n",
       "      <th>Rings</th>\n",
       "    </tr>\n",
       "  </thead>\n",
       "  <tbody>\n",
       "    <tr>\n",
       "      <th>0</th>\n",
       "      <td>M</td>\n",
       "      <td>0.455</td>\n",
       "      <td>0.365</td>\n",
       "      <td>0.095</td>\n",
       "      <td>0.5140</td>\n",
       "      <td>0.2245</td>\n",
       "      <td>0.1010</td>\n",
       "      <td>0.1500</td>\n",
       "      <td>15</td>\n",
       "    </tr>\n",
       "    <tr>\n",
       "      <th>1</th>\n",
       "      <td>M</td>\n",
       "      <td>0.350</td>\n",
       "      <td>0.265</td>\n",
       "      <td>0.090</td>\n",
       "      <td>0.2255</td>\n",
       "      <td>0.0995</td>\n",
       "      <td>0.0485</td>\n",
       "      <td>0.0700</td>\n",
       "      <td>7</td>\n",
       "    </tr>\n",
       "    <tr>\n",
       "      <th>2</th>\n",
       "      <td>F</td>\n",
       "      <td>0.530</td>\n",
       "      <td>0.420</td>\n",
       "      <td>0.135</td>\n",
       "      <td>0.6770</td>\n",
       "      <td>0.2565</td>\n",
       "      <td>0.1415</td>\n",
       "      <td>0.2100</td>\n",
       "      <td>9</td>\n",
       "    </tr>\n",
       "    <tr>\n",
       "      <th>3</th>\n",
       "      <td>M</td>\n",
       "      <td>0.440</td>\n",
       "      <td>0.365</td>\n",
       "      <td>0.125</td>\n",
       "      <td>0.5160</td>\n",
       "      <td>0.2155</td>\n",
       "      <td>0.1140</td>\n",
       "      <td>0.1550</td>\n",
       "      <td>10</td>\n",
       "    </tr>\n",
       "    <tr>\n",
       "      <th>4</th>\n",
       "      <td>I</td>\n",
       "      <td>0.330</td>\n",
       "      <td>0.255</td>\n",
       "      <td>0.080</td>\n",
       "      <td>0.2050</td>\n",
       "      <td>0.0895</td>\n",
       "      <td>0.0395</td>\n",
       "      <td>0.0550</td>\n",
       "      <td>7</td>\n",
       "    </tr>\n",
       "    <tr>\n",
       "      <th>...</th>\n",
       "      <td>...</td>\n",
       "      <td>...</td>\n",
       "      <td>...</td>\n",
       "      <td>...</td>\n",
       "      <td>...</td>\n",
       "      <td>...</td>\n",
       "      <td>...</td>\n",
       "      <td>...</td>\n",
       "      <td>...</td>\n",
       "    </tr>\n",
       "    <tr>\n",
       "      <th>4172</th>\n",
       "      <td>F</td>\n",
       "      <td>0.565</td>\n",
       "      <td>0.450</td>\n",
       "      <td>0.165</td>\n",
       "      <td>0.8870</td>\n",
       "      <td>0.3700</td>\n",
       "      <td>0.2390</td>\n",
       "      <td>0.2490</td>\n",
       "      <td>11</td>\n",
       "    </tr>\n",
       "    <tr>\n",
       "      <th>4173</th>\n",
       "      <td>M</td>\n",
       "      <td>0.590</td>\n",
       "      <td>0.440</td>\n",
       "      <td>0.135</td>\n",
       "      <td>0.9660</td>\n",
       "      <td>0.4390</td>\n",
       "      <td>0.2145</td>\n",
       "      <td>0.2605</td>\n",
       "      <td>10</td>\n",
       "    </tr>\n",
       "    <tr>\n",
       "      <th>4174</th>\n",
       "      <td>M</td>\n",
       "      <td>0.600</td>\n",
       "      <td>0.475</td>\n",
       "      <td>0.205</td>\n",
       "      <td>1.1760</td>\n",
       "      <td>0.5255</td>\n",
       "      <td>0.2875</td>\n",
       "      <td>0.3080</td>\n",
       "      <td>9</td>\n",
       "    </tr>\n",
       "    <tr>\n",
       "      <th>4175</th>\n",
       "      <td>F</td>\n",
       "      <td>0.625</td>\n",
       "      <td>0.485</td>\n",
       "      <td>0.150</td>\n",
       "      <td>1.0945</td>\n",
       "      <td>0.5310</td>\n",
       "      <td>0.2610</td>\n",
       "      <td>0.2960</td>\n",
       "      <td>10</td>\n",
       "    </tr>\n",
       "    <tr>\n",
       "      <th>4176</th>\n",
       "      <td>M</td>\n",
       "      <td>0.710</td>\n",
       "      <td>0.555</td>\n",
       "      <td>0.195</td>\n",
       "      <td>1.9485</td>\n",
       "      <td>0.9455</td>\n",
       "      <td>0.3765</td>\n",
       "      <td>0.4950</td>\n",
       "      <td>12</td>\n",
       "    </tr>\n",
       "  </tbody>\n",
       "</table>\n",
       "<p>4177 rows × 9 columns</p>\n",
       "</div>"
      ],
      "text/plain": [
       "     Sex  Length  Diameter  Height  Whole weight  Shucked weight  \\\n",
       "0      M   0.455     0.365   0.095        0.5140          0.2245   \n",
       "1      M   0.350     0.265   0.090        0.2255          0.0995   \n",
       "2      F   0.530     0.420   0.135        0.6770          0.2565   \n",
       "3      M   0.440     0.365   0.125        0.5160          0.2155   \n",
       "4      I   0.330     0.255   0.080        0.2050          0.0895   \n",
       "...   ..     ...       ...     ...           ...             ...   \n",
       "4172   F   0.565     0.450   0.165        0.8870          0.3700   \n",
       "4173   M   0.590     0.440   0.135        0.9660          0.4390   \n",
       "4174   M   0.600     0.475   0.205        1.1760          0.5255   \n",
       "4175   F   0.625     0.485   0.150        1.0945          0.5310   \n",
       "4176   M   0.710     0.555   0.195        1.9485          0.9455   \n",
       "\n",
       "      Viscera weight  Shell weight  Rings  \n",
       "0             0.1010        0.1500     15  \n",
       "1             0.0485        0.0700      7  \n",
       "2             0.1415        0.2100      9  \n",
       "3             0.1140        0.1550     10  \n",
       "4             0.0395        0.0550      7  \n",
       "...              ...           ...    ...  \n",
       "4172          0.2390        0.2490     11  \n",
       "4173          0.2145        0.2605     10  \n",
       "4174          0.2875        0.3080      9  \n",
       "4175          0.2610        0.2960     10  \n",
       "4176          0.3765        0.4950     12  \n",
       "\n",
       "[4177 rows x 9 columns]"
      ]
     },
     "execution_count": 3,
     "metadata": {},
     "output_type": "execute_result"
    }
   ],
   "source": [
    "data = pd.read_csv(\"data/abalone.csv\")\n",
    "data"
   ]
  },
  {
   "cell_type": "code",
   "execution_count": 4,
   "id": "497bd472",
   "metadata": {},
   "outputs": [],
   "source": [
    "abalone_features = data\n",
    "abalone_labels = abalone_features.pop('Rings')"
   ]
  },
  {
   "cell_type": "code",
   "execution_count": 5,
   "id": "d912d6cf",
   "metadata": {},
   "outputs": [
    {
     "data": {
      "text/html": [
       "<div>\n",
       "<style scoped>\n",
       "    .dataframe tbody tr th:only-of-type {\n",
       "        vertical-align: middle;\n",
       "    }\n",
       "\n",
       "    .dataframe tbody tr th {\n",
       "        vertical-align: top;\n",
       "    }\n",
       "\n",
       "    .dataframe thead th {\n",
       "        text-align: right;\n",
       "    }\n",
       "</style>\n",
       "<table border=\"1\" class=\"dataframe\">\n",
       "  <thead>\n",
       "    <tr style=\"text-align: right;\">\n",
       "      <th></th>\n",
       "      <th>Sex</th>\n",
       "      <th>Length</th>\n",
       "      <th>Diameter</th>\n",
       "      <th>Height</th>\n",
       "      <th>Whole weight</th>\n",
       "      <th>Shucked weight</th>\n",
       "      <th>Viscera weight</th>\n",
       "      <th>Shell weight</th>\n",
       "    </tr>\n",
       "  </thead>\n",
       "  <tbody>\n",
       "    <tr>\n",
       "      <th>0</th>\n",
       "      <td>M</td>\n",
       "      <td>0.455</td>\n",
       "      <td>0.365</td>\n",
       "      <td>0.095</td>\n",
       "      <td>0.5140</td>\n",
       "      <td>0.2245</td>\n",
       "      <td>0.1010</td>\n",
       "      <td>0.1500</td>\n",
       "    </tr>\n",
       "    <tr>\n",
       "      <th>1</th>\n",
       "      <td>M</td>\n",
       "      <td>0.350</td>\n",
       "      <td>0.265</td>\n",
       "      <td>0.090</td>\n",
       "      <td>0.2255</td>\n",
       "      <td>0.0995</td>\n",
       "      <td>0.0485</td>\n",
       "      <td>0.0700</td>\n",
       "    </tr>\n",
       "    <tr>\n",
       "      <th>2</th>\n",
       "      <td>F</td>\n",
       "      <td>0.530</td>\n",
       "      <td>0.420</td>\n",
       "      <td>0.135</td>\n",
       "      <td>0.6770</td>\n",
       "      <td>0.2565</td>\n",
       "      <td>0.1415</td>\n",
       "      <td>0.2100</td>\n",
       "    </tr>\n",
       "    <tr>\n",
       "      <th>3</th>\n",
       "      <td>M</td>\n",
       "      <td>0.440</td>\n",
       "      <td>0.365</td>\n",
       "      <td>0.125</td>\n",
       "      <td>0.5160</td>\n",
       "      <td>0.2155</td>\n",
       "      <td>0.1140</td>\n",
       "      <td>0.1550</td>\n",
       "    </tr>\n",
       "    <tr>\n",
       "      <th>4</th>\n",
       "      <td>I</td>\n",
       "      <td>0.330</td>\n",
       "      <td>0.255</td>\n",
       "      <td>0.080</td>\n",
       "      <td>0.2050</td>\n",
       "      <td>0.0895</td>\n",
       "      <td>0.0395</td>\n",
       "      <td>0.0550</td>\n",
       "    </tr>\n",
       "    <tr>\n",
       "      <th>...</th>\n",
       "      <td>...</td>\n",
       "      <td>...</td>\n",
       "      <td>...</td>\n",
       "      <td>...</td>\n",
       "      <td>...</td>\n",
       "      <td>...</td>\n",
       "      <td>...</td>\n",
       "      <td>...</td>\n",
       "    </tr>\n",
       "    <tr>\n",
       "      <th>4172</th>\n",
       "      <td>F</td>\n",
       "      <td>0.565</td>\n",
       "      <td>0.450</td>\n",
       "      <td>0.165</td>\n",
       "      <td>0.8870</td>\n",
       "      <td>0.3700</td>\n",
       "      <td>0.2390</td>\n",
       "      <td>0.2490</td>\n",
       "    </tr>\n",
       "    <tr>\n",
       "      <th>4173</th>\n",
       "      <td>M</td>\n",
       "      <td>0.590</td>\n",
       "      <td>0.440</td>\n",
       "      <td>0.135</td>\n",
       "      <td>0.9660</td>\n",
       "      <td>0.4390</td>\n",
       "      <td>0.2145</td>\n",
       "      <td>0.2605</td>\n",
       "    </tr>\n",
       "    <tr>\n",
       "      <th>4174</th>\n",
       "      <td>M</td>\n",
       "      <td>0.600</td>\n",
       "      <td>0.475</td>\n",
       "      <td>0.205</td>\n",
       "      <td>1.1760</td>\n",
       "      <td>0.5255</td>\n",
       "      <td>0.2875</td>\n",
       "      <td>0.3080</td>\n",
       "    </tr>\n",
       "    <tr>\n",
       "      <th>4175</th>\n",
       "      <td>F</td>\n",
       "      <td>0.625</td>\n",
       "      <td>0.485</td>\n",
       "      <td>0.150</td>\n",
       "      <td>1.0945</td>\n",
       "      <td>0.5310</td>\n",
       "      <td>0.2610</td>\n",
       "      <td>0.2960</td>\n",
       "    </tr>\n",
       "    <tr>\n",
       "      <th>4176</th>\n",
       "      <td>M</td>\n",
       "      <td>0.710</td>\n",
       "      <td>0.555</td>\n",
       "      <td>0.195</td>\n",
       "      <td>1.9485</td>\n",
       "      <td>0.9455</td>\n",
       "      <td>0.3765</td>\n",
       "      <td>0.4950</td>\n",
       "    </tr>\n",
       "  </tbody>\n",
       "</table>\n",
       "<p>4177 rows × 8 columns</p>\n",
       "</div>"
      ],
      "text/plain": [
       "     Sex  Length  Diameter  Height  Whole weight  Shucked weight  \\\n",
       "0      M   0.455     0.365   0.095        0.5140          0.2245   \n",
       "1      M   0.350     0.265   0.090        0.2255          0.0995   \n",
       "2      F   0.530     0.420   0.135        0.6770          0.2565   \n",
       "3      M   0.440     0.365   0.125        0.5160          0.2155   \n",
       "4      I   0.330     0.255   0.080        0.2050          0.0895   \n",
       "...   ..     ...       ...     ...           ...             ...   \n",
       "4172   F   0.565     0.450   0.165        0.8870          0.3700   \n",
       "4173   M   0.590     0.440   0.135        0.9660          0.4390   \n",
       "4174   M   0.600     0.475   0.205        1.1760          0.5255   \n",
       "4175   F   0.625     0.485   0.150        1.0945          0.5310   \n",
       "4176   M   0.710     0.555   0.195        1.9485          0.9455   \n",
       "\n",
       "      Viscera weight  Shell weight  \n",
       "0             0.1010        0.1500  \n",
       "1             0.0485        0.0700  \n",
       "2             0.1415        0.2100  \n",
       "3             0.1140        0.1550  \n",
       "4             0.0395        0.0550  \n",
       "...              ...           ...  \n",
       "4172          0.2390        0.2490  \n",
       "4173          0.2145        0.2605  \n",
       "4174          0.2875        0.3080  \n",
       "4175          0.2610        0.2960  \n",
       "4176          0.3765        0.4950  \n",
       "\n",
       "[4177 rows x 8 columns]"
      ]
     },
     "execution_count": 5,
     "metadata": {},
     "output_type": "execute_result"
    }
   ],
   "source": [
    "abalone_features"
   ]
  },
  {
   "cell_type": "code",
   "execution_count": 6,
   "id": "d74608b8",
   "metadata": {},
   "outputs": [
    {
     "data": {
      "text/plain": [
       "0       15\n",
       "1        7\n",
       "2        9\n",
       "3       10\n",
       "4        7\n",
       "        ..\n",
       "4172    11\n",
       "4173    10\n",
       "4174     9\n",
       "4175    10\n",
       "4176    12\n",
       "Name: Rings, Length: 4177, dtype: int64"
      ]
     },
     "execution_count": 6,
     "metadata": {},
     "output_type": "execute_result"
    }
   ],
   "source": [
    "abalone_labels"
   ]
  },
  {
   "cell_type": "code",
   "execution_count": 7,
   "id": "83e7914b",
   "metadata": {},
   "outputs": [
    {
     "data": {
      "text/plain": [
       "9     689\n",
       "10    634\n",
       "8     568\n",
       "11    487\n",
       "7     391\n",
       "12    267\n",
       "6     259\n",
       "13    203\n",
       "14    126\n",
       "5     115\n",
       "15    103\n",
       "16     67\n",
       "17     58\n",
       "4      57\n",
       "18     42\n",
       "19     32\n",
       "20     26\n",
       "3      15\n",
       "21     14\n",
       "23      9\n",
       "22      6\n",
       "27      2\n",
       "24      2\n",
       "1       1\n",
       "26      1\n",
       "29      1\n",
       "2       1\n",
       "25      1\n",
       "Name: Rings, dtype: int64"
      ]
     },
     "execution_count": 7,
     "metadata": {},
     "output_type": "execute_result"
    }
   ],
   "source": [
    "abalone_labels.value_counts()"
   ]
  },
  {
   "cell_type": "markdown",
   "id": "904cc972",
   "metadata": {},
   "source": [
    "# Classificazione età"
   ]
  },
  {
   "cell_type": "code",
   "execution_count": 8,
   "id": "d116404b",
   "metadata": {},
   "outputs": [],
   "source": [
    "from tensorflow.keras.utils import to_categorical\n",
    "abalone_cat_labels = to_categorical(abalone_labels)"
   ]
  },
  {
   "cell_type": "code",
   "execution_count": 9,
   "id": "34d85b57",
   "metadata": {},
   "outputs": [],
   "source": [
    "from sklearn.model_selection import train_test_split\n",
    "X_train, X_val, y_train, y_val = train_test_split(abalone_features, abalone_cat_labels, test_size=1/3, random_state=42)"
   ]
  },
  {
   "cell_type": "code",
   "execution_count": 10,
   "id": "15211716",
   "metadata": {},
   "outputs": [],
   "source": [
    "# from tensorflow import feature_column\n",
    "from sklearn.preprocessing import OneHotEncoder\n",
    "from sklearn.preprocessing import StandardScaler\n",
    "from sklearn.compose import ColumnTransformer\n",
    "\n",
    "# variabili numeriche\n",
    "numeric_vars = [\"Length\", \"Diameter\", \"Height\", \"Whole weight\", \"Shucked weight\", \"Viscera weight\", \"Shell weight\"]\n",
    "# varibili categoriche\n",
    "categorical_vars = [\"Sex\"]\n",
    "\n",
    "# feature_columns = []\n",
    "# for header in numeric_vars:\n",
    "#     feature_columns.append(tf.feature_column.numeric_column(header))\n",
    "\n",
    "# sex_type = feature_column.categorical_column_with_vocabulary_list('Sex', ['M', 'F', 'I'])\n",
    "# sex_type_one_hot = feature_column.indicator_column(sex_type)\n",
    "# feature_columns.append(sex_type_one_hot)\n",
    "\n",
    "\n",
    "preprocessor = ColumnTransformer([\n",
    "    ( \"categorical\", OneHotEncoder()    , categorical_vars),\n",
    "    ( \"numeric\"    , StandardScaler()   , numeric_vars),\n",
    "])\n",
    "\n",
    "X_train = preprocessor.fit_transform(X_train)\n",
    "X_val = preprocessor.transform(X_val)"
   ]
  },
  {
   "cell_type": "code",
   "execution_count": 11,
   "id": "0461bc42",
   "metadata": {},
   "outputs": [
    {
     "data": {
      "text/plain": [
       "array([ 1.        ,  0.        ,  0.        ,  0.36501294,  0.40649702,\n",
       "        0.22925817,  0.2570285 ,  0.7458663 ,  0.05913851, -0.23191583])"
      ]
     },
     "execution_count": 11,
     "metadata": {},
     "output_type": "execute_result"
    }
   ],
   "source": [
    "X_train[0]"
   ]
  },
  {
   "cell_type": "code",
   "execution_count": 12,
   "id": "f5e111fd",
   "metadata": {},
   "outputs": [
    {
     "data": {
      "text/plain": [
       "(10, 30)"
      ]
     },
     "execution_count": 12,
     "metadata": {},
     "output_type": "execute_result"
    }
   ],
   "source": [
    "X_train.shape[1],  y_train[0].shape[0]"
   ]
  },
  {
   "cell_type": "code",
   "execution_count": 13,
   "id": "e322b086",
   "metadata": {},
   "outputs": [],
   "source": [
    "model = tf.keras.Sequential([\n",
    "    layers.Dense(10, activation=\"relu\", input_dim=X_train.shape[1]),\n",
    "    layers.Dense(32, activation=\"relu\"),\n",
    "    layers.Dense(16, activation=\"relu\"),\n",
    "    layers.Dense(y_train[0].shape[0], activation=\"softmax\")\n",
    "])"
   ]
  },
  {
   "cell_type": "code",
   "execution_count": 14,
   "id": "843fe9dc",
   "metadata": {},
   "outputs": [
    {
     "name": "stdout",
     "output_type": "stream",
     "text": [
      "Model: \"sequential\"\n",
      "_________________________________________________________________\n",
      " Layer (type)                Output Shape              Param #   \n",
      "=================================================================\n",
      " dense (Dense)               (None, 10)                110       \n",
      "                                                                 \n",
      " dense_1 (Dense)             (None, 32)                352       \n",
      "                                                                 \n",
      " dense_2 (Dense)             (None, 16)                528       \n",
      "                                                                 \n",
      " dense_3 (Dense)             (None, 30)                510       \n",
      "                                                                 \n",
      "=================================================================\n",
      "Total params: 1,500\n",
      "Trainable params: 1,500\n",
      "Non-trainable params: 0\n",
      "_________________________________________________________________\n"
     ]
    }
   ],
   "source": [
    "model.summary()"
   ]
  },
  {
   "cell_type": "code",
   "execution_count": 15,
   "id": "5d21f916",
   "metadata": {},
   "outputs": [],
   "source": [
    "model.compile(\n",
    "    optimizer=\"adam\",\n",
    "    loss=\"categorical_crossentropy\",\n",
    "    metrics=[\"accuracy\"]\n",
    ")"
   ]
  },
  {
   "cell_type": "code",
   "execution_count": 16,
   "id": "324f08e0",
   "metadata": {},
   "outputs": [
    {
     "name": "stdout",
     "output_type": "stream",
     "text": [
      "Epoch 1/20\n",
      "279/279 [==============================] - 1s 1ms/step - loss: 2.8199 - accuracy: 0.1717\n",
      "Epoch 2/20\n",
      "279/279 [==============================] - 0s 2ms/step - loss: 2.1954 - accuracy: 0.2414\n",
      "Epoch 3/20\n",
      "279/279 [==============================] - 0s 1ms/step - loss: 2.1070 - accuracy: 0.2532\n",
      "Epoch 4/20\n",
      "279/279 [==============================] - 0s 1ms/step - loss: 2.0601 - accuracy: 0.2540\n",
      "Epoch 5/20\n",
      "279/279 [==============================] - 0s 1ms/step - loss: 2.0207 - accuracy: 0.2701\n",
      "Epoch 6/20\n",
      "279/279 [==============================] - 0s 1ms/step - loss: 2.0025 - accuracy: 0.2568\n",
      "Epoch 7/20\n",
      "279/279 [==============================] - 0s 1ms/step - loss: 1.9823 - accuracy: 0.2629\n",
      "Epoch 8/20\n",
      "279/279 [==============================] - 0s 1ms/step - loss: 1.9637 - accuracy: 0.2690\n",
      "Epoch 9/20\n",
      "279/279 [==============================] - 0s 1ms/step - loss: 1.9543 - accuracy: 0.2716\n",
      "Epoch 10/20\n",
      "279/279 [==============================] - 0s 1ms/step - loss: 1.9496 - accuracy: 0.2766\n",
      "Epoch 11/20\n",
      "279/279 [==============================] - 0s 1ms/step - loss: 1.9340 - accuracy: 0.2687\n",
      "Epoch 12/20\n",
      "279/279 [==============================] - 0s 1ms/step - loss: 1.9328 - accuracy: 0.2791\n",
      "Epoch 13/20\n",
      "279/279 [==============================] - 0s 1ms/step - loss: 1.9245 - accuracy: 0.2629\n",
      "Epoch 14/20\n",
      "279/279 [==============================] - 0s 1ms/step - loss: 1.9210 - accuracy: 0.2705\n",
      "Epoch 15/20\n",
      "279/279 [==============================] - 0s 1ms/step - loss: 1.9136 - accuracy: 0.2795\n",
      "Epoch 16/20\n",
      "279/279 [==============================] - 0s 1ms/step - loss: 1.9052 - accuracy: 0.2823\n",
      "Epoch 17/20\n",
      "279/279 [==============================] - 0s 1ms/step - loss: 1.9064 - accuracy: 0.2845\n",
      "Epoch 18/20\n",
      "279/279 [==============================] - 0s 1ms/step - loss: 1.9053 - accuracy: 0.2780\n",
      "Epoch 19/20\n",
      "279/279 [==============================] - 0s 1ms/step - loss: 1.8998 - accuracy: 0.2759\n",
      "Epoch 20/20\n",
      "279/279 [==============================] - 0s 1ms/step - loss: 1.9010 - accuracy: 0.2705\n"
     ]
    }
   ],
   "source": [
    "fit_history = model.fit(X_train, y_train, batch_size=10, epochs=20)"
   ]
  },
  {
   "cell_type": "code",
   "execution_count": 17,
   "id": "ecd808e8",
   "metadata": {
    "scrolled": true
   },
   "outputs": [
    {
     "name": "stdout",
     "output_type": "stream",
     "text": [
      "44/44 [==============================] - 0s 2ms/step - loss: 1.9345 - accuracy: 0.2886\n"
     ]
    },
    {
     "data": {
      "text/plain": [
       "[1.9345394372940063, 0.2885857820510864]"
      ]
     },
     "execution_count": 17,
     "metadata": {},
     "output_type": "execute_result"
    }
   ],
   "source": [
    "model.evaluate(X_val, y_val)"
   ]
  },
  {
   "cell_type": "code",
   "execution_count": 18,
   "id": "c1e6162f",
   "metadata": {},
   "outputs": [
    {
     "name": "stdout",
     "output_type": "stream",
     "text": [
      "1/1 [==============================] - 0s 90ms/step\n"
     ]
    },
    {
     "data": {
      "text/plain": [
       "array([[6.03501576e-07, 1.44876836e-07, 4.97658519e-08, 2.13594006e-07,\n",
       "        2.47897356e-06, 2.53815670e-05, 6.03497261e-04, 2.00799946e-03,\n",
       "        2.64249239e-02, 1.03275709e-01, 2.34295174e-01, 2.12622210e-01,\n",
       "        8.44510868e-02, 1.16189793e-01, 7.54037723e-02, 6.11936152e-02,\n",
       "        2.51998547e-02, 2.04648431e-02, 1.39860613e-02, 1.30663272e-02,\n",
       "        4.09717439e-03, 4.31814510e-03, 4.28498228e-04, 1.11904973e-03,\n",
       "        4.74857115e-05, 2.69356951e-05, 2.68603966e-04, 3.48678514e-05,\n",
       "        1.35130699e-06, 4.44162928e-04],\n",
       "       [1.47732635e-08, 1.02843671e-08, 1.87613303e-09, 4.27901714e-09,\n",
       "        2.69315819e-07, 3.46234083e-05, 5.12890937e-03, 2.61698384e-02,\n",
       "        1.97785035e-01, 3.08960676e-01, 2.24906996e-01, 1.34694368e-01,\n",
       "        4.34474945e-02, 2.45534871e-02, 1.66908316e-02, 1.17315585e-02,\n",
       "        1.72946008e-03, 1.27079268e-03, 1.35106535e-03, 1.10225112e-03,\n",
       "        8.24010494e-05, 1.90805586e-04, 3.98645079e-06, 1.50088454e-04,\n",
       "        6.63458906e-08, 7.59415641e-08, 4.75239221e-06, 3.69975126e-08,\n",
       "        4.89181566e-08, 1.00296029e-05]], dtype=float32)"
      ]
     },
     "execution_count": 18,
     "metadata": {},
     "output_type": "execute_result"
    }
   ],
   "source": [
    "model.predict(X_val[:2])"
   ]
  },
  {
   "cell_type": "code",
   "execution_count": 19,
   "id": "d1955338",
   "metadata": {},
   "outputs": [
    {
     "name": "stdout",
     "output_type": "stream",
     "text": [
      "1/1 [==============================] - 0s 22ms/step\n"
     ]
    },
    {
     "data": {
      "text/plain": [
       "array([10,  9, 14, 11, 11], dtype=int64)"
      ]
     },
     "execution_count": 19,
     "metadata": {},
     "output_type": "execute_result"
    }
   ],
   "source": [
    "np.argmax(model.predict(X_val[:5]), -1)"
   ]
  },
  {
   "cell_type": "code",
   "execution_count": 20,
   "id": "2ebe2d35",
   "metadata": {},
   "outputs": [
    {
     "data": {
      "text/plain": [
       "array([ 9,  8, 16,  9, 14], dtype=int64)"
      ]
     },
     "execution_count": 20,
     "metadata": {},
     "output_type": "execute_result"
    }
   ],
   "source": [
    "np.argmax(y_val[:5], -1)"
   ]
  },
  {
   "cell_type": "markdown",
   "id": "c540486d",
   "metadata": {},
   "source": [
    "# Classificazione quartili"
   ]
  },
  {
   "cell_type": "code",
   "execution_count": 21,
   "id": "91bb8a4d",
   "metadata": {},
   "outputs": [
    {
     "name": "stdout",
     "output_type": "stream",
     "text": [
      "0       (11.0, 29.0]\n",
      "1       (0.999, 8.0]\n",
      "2         (8.0, 9.0]\n",
      "3        (9.0, 11.0]\n",
      "4       (0.999, 8.0]\n",
      "            ...     \n",
      "4172     (9.0, 11.0]\n",
      "4173     (9.0, 11.0]\n",
      "4174      (8.0, 9.0]\n",
      "4175     (9.0, 11.0]\n",
      "4176    (11.0, 29.0]\n",
      "Name: Rings, Length: 4177, dtype: category\n",
      "Categories (4, interval[float64, right]): [(0.999, 8.0] < (8.0, 9.0] < (9.0, 11.0] < (11.0, 29.0]]\n",
      "\n",
      "One hot encoding:\n",
      " [[0. 0. 0. 1.]\n",
      " [1. 0. 0. 0.]\n",
      " [0. 1. 0. 0.]\n",
      " ...\n",
      " [0. 1. 0. 0.]\n",
      " [0. 0. 1. 0.]\n",
      " [0. 0. 0. 1.]]\n"
     ]
    }
   ],
   "source": [
    "from sklearn.preprocessing import LabelEncoder\n",
    "from tensorflow.keras.utils import to_categorical\n",
    "\n",
    "abalone_q_labels = pd.qcut(abalone_labels, 4)\n",
    "print(abalone_q_labels)\n",
    "\n",
    "encoder = LabelEncoder()\n",
    "encoder.fit(abalone_q_labels)\n",
    "encoded_Y = encoder.transform(abalone_q_labels)\n",
    "\n",
    "abalone_q_onehot_labels = to_categorical(encoded_Y)\n",
    "print(\"\\nOne hot encoding:\\n\", abalone_q_onehot_labels)"
   ]
  },
  {
   "cell_type": "code",
   "execution_count": 22,
   "id": "3cb1862c",
   "metadata": {},
   "outputs": [],
   "source": [
    "Xq_train, Xq_val, yq_train, yq_val = train_test_split(\n",
    "    abalone_features, \n",
    "    abalone_q_onehot_labels, \n",
    "    test_size=1/3, \n",
    "    random_state=42)"
   ]
  },
  {
   "cell_type": "code",
   "execution_count": 23,
   "id": "2a150e2f",
   "metadata": {},
   "outputs": [],
   "source": [
    "preprocessor_q = ColumnTransformer([\n",
    "    ( \"categorical\", OneHotEncoder()    , categorical_vars),\n",
    "    ( \"numeric\"    , StandardScaler()   , numeric_vars),\n",
    "])\n",
    "\n",
    "Xq_train = preprocessor_q.fit_transform(Xq_train)\n",
    "Xq_val = preprocessor_q.transform(Xq_val)"
   ]
  },
  {
   "cell_type": "code",
   "execution_count": 24,
   "id": "621ef440",
   "metadata": {},
   "outputs": [
    {
     "data": {
      "text/plain": [
       "array([[ 1.        ,  0.        ,  0.        , ...,  0.7458663 ,\n",
       "         0.05913851, -0.23191583],\n",
       "       [ 0.        ,  1.        ,  0.        , ..., -1.00081093,\n",
       "        -1.09577681, -1.02997374],\n",
       "       [ 0.        ,  0.        ,  1.        , ...,  1.57910263,\n",
       "         1.84857253,  2.03811556],\n",
       "       ...,\n",
       "       [ 0.        ,  0.        ,  1.        , ..., -0.53295096,\n",
       "        -0.44756347, -0.38088664],\n",
       "       [ 0.        ,  0.        ,  1.        , ...,  0.67902916,\n",
       "         0.32846659, -0.04747578],\n",
       "       [ 1.        ,  0.        ,  0.        , ...,  0.81715925,\n",
       "         0.44258866,  0.20790275]])"
      ]
     },
     "execution_count": 24,
     "metadata": {},
     "output_type": "execute_result"
    }
   ],
   "source": [
    "Xq_train"
   ]
  },
  {
   "cell_type": "code",
   "execution_count": 25,
   "id": "30e6d0aa",
   "metadata": {},
   "outputs": [
    {
     "data": {
      "text/plain": [
       "array([[0., 1., 0., 0.],\n",
       "       [1., 0., 0., 0.],\n",
       "       [0., 0., 0., 1.],\n",
       "       ...,\n",
       "       [1., 0., 0., 0.],\n",
       "       [1., 0., 0., 0.],\n",
       "       [1., 0., 0., 0.]], dtype=float32)"
      ]
     },
     "execution_count": 25,
     "metadata": {},
     "output_type": "execute_result"
    }
   ],
   "source": [
    "yq_val"
   ]
  },
  {
   "cell_type": "code",
   "execution_count": 26,
   "id": "b1697c4e",
   "metadata": {},
   "outputs": [
    {
     "data": {
      "text/plain": [
       "4"
      ]
     },
     "execution_count": 26,
     "metadata": {},
     "output_type": "execute_result"
    }
   ],
   "source": [
    "output_node = len(abalone_q_labels.unique())\n",
    "output_node"
   ]
  },
  {
   "cell_type": "code",
   "execution_count": 27,
   "id": "a984a730",
   "metadata": {
    "scrolled": true
   },
   "outputs": [
    {
     "data": {
      "text/plain": [
       "10"
      ]
     },
     "execution_count": 27,
     "metadata": {},
     "output_type": "execute_result"
    }
   ],
   "source": [
    "Xq_train.shape[1]"
   ]
  },
  {
   "cell_type": "code",
   "execution_count": 28,
   "id": "05395116",
   "metadata": {},
   "outputs": [],
   "source": [
    "q_model = tf.keras.Sequential([\n",
    "    layers.Dense(10, activation=\"relu\", input_dim=Xq_train.shape[1]),\n",
    "    layers.Dense(32, activation=\"relu\"),\n",
    "    layers.Dense(16, activation=\"relu\"),\n",
    "    layers.Dense(output_node, activation=\"softmax\")\n",
    "])\n",
    "\n",
    "q_model.compile(\n",
    "    optimizer=\"adam\",\n",
    "    loss=\"categorical_crossentropy\",\n",
    "    metrics=[\"accuracy\"]\n",
    ")"
   ]
  },
  {
   "cell_type": "code",
   "execution_count": 29,
   "id": "d7e74b5e",
   "metadata": {},
   "outputs": [
    {
     "name": "stdout",
     "output_type": "stream",
     "text": [
      "Model: \"sequential_1\"\n",
      "_________________________________________________________________\n",
      " Layer (type)                Output Shape              Param #   \n",
      "=================================================================\n",
      " dense_4 (Dense)             (None, 10)                110       \n",
      "                                                                 \n",
      " dense_5 (Dense)             (None, 32)                352       \n",
      "                                                                 \n",
      " dense_6 (Dense)             (None, 16)                528       \n",
      "                                                                 \n",
      " dense_7 (Dense)             (None, 4)                 68        \n",
      "                                                                 \n",
      "=================================================================\n",
      "Total params: 1,058\n",
      "Trainable params: 1,058\n",
      "Non-trainable params: 0\n",
      "_________________________________________________________________\n"
     ]
    }
   ],
   "source": [
    "q_model.summary()"
   ]
  },
  {
   "cell_type": "code",
   "execution_count": 30,
   "id": "fd02de62",
   "metadata": {},
   "outputs": [
    {
     "name": "stdout",
     "output_type": "stream",
     "text": [
      "Epoch 1/20\n",
      "279/279 [==============================] - 1s 1ms/step - loss: 1.1604 - accuracy: 0.4723\n",
      "Epoch 2/20\n",
      "279/279 [==============================] - 0s 1ms/step - loss: 1.0693 - accuracy: 0.5151\n",
      "Epoch 3/20\n",
      "279/279 [==============================] - 0s 1ms/step - loss: 1.0304 - accuracy: 0.5406\n",
      "Epoch 4/20\n",
      "279/279 [==============================] - 0s 1ms/step - loss: 0.9886 - accuracy: 0.5747\n",
      "Epoch 5/20\n",
      "279/279 [==============================] - 0s 1ms/step - loss: 0.9593 - accuracy: 0.5981\n",
      "Epoch 6/20\n",
      "279/279 [==============================] - 0s 1ms/step - loss: 0.9488 - accuracy: 0.5934\n",
      "Epoch 7/20\n",
      "279/279 [==============================] - 0s 1ms/step - loss: 0.9365 - accuracy: 0.5970\n",
      "Epoch 8/20\n",
      "279/279 [==============================] - 0s 1ms/step - loss: 0.9308 - accuracy: 0.5916\n",
      "Epoch 9/20\n",
      "279/279 [==============================] - 0s 1ms/step - loss: 0.9251 - accuracy: 0.6060\n",
      "Epoch 10/20\n",
      "279/279 [==============================] - 0s 1ms/step - loss: 0.9244 - accuracy: 0.6063\n",
      "Epoch 11/20\n",
      "279/279 [==============================] - 0s 1ms/step - loss: 0.9221 - accuracy: 0.6063\n",
      "Epoch 12/20\n",
      "279/279 [==============================] - 0s 1ms/step - loss: 0.9209 - accuracy: 0.6070\n",
      "Epoch 13/20\n",
      "279/279 [==============================] - 0s 1ms/step - loss: 0.9207 - accuracy: 0.6049\n",
      "Epoch 14/20\n",
      "279/279 [==============================] - 0s 1ms/step - loss: 0.9189 - accuracy: 0.6081\n",
      "Epoch 15/20\n",
      "279/279 [==============================] - 0s 1ms/step - loss: 0.9157 - accuracy: 0.6034\n",
      "Epoch 16/20\n",
      "279/279 [==============================] - 0s 1ms/step - loss: 0.9174 - accuracy: 0.6031\n",
      "Epoch 17/20\n",
      "279/279 [==============================] - 0s 1ms/step - loss: 0.9147 - accuracy: 0.6081\n",
      "Epoch 18/20\n",
      "279/279 [==============================] - 0s 1ms/step - loss: 0.9150 - accuracy: 0.6153\n",
      "Epoch 19/20\n",
      "279/279 [==============================] - 0s 1ms/step - loss: 0.9136 - accuracy: 0.6124\n",
      "Epoch 20/20\n",
      "279/279 [==============================] - 0s 1ms/step - loss: 0.9118 - accuracy: 0.6078\n"
     ]
    }
   ],
   "source": [
    "fit_q_history = q_model.fit(Xq_train, yq_train, batch_size=10, epochs=20)"
   ]
  },
  {
   "cell_type": "code",
   "execution_count": 31,
   "id": "44fb611c",
   "metadata": {},
   "outputs": [
    {
     "name": "stdout",
     "output_type": "stream",
     "text": [
      "44/44 [==============================] - 0s 1ms/step - loss: 0.9567 - accuracy: 0.5887\n"
     ]
    },
    {
     "data": {
      "text/plain": [
       "[0.9567493200302124, 0.588657557964325]"
      ]
     },
     "execution_count": 31,
     "metadata": {},
     "output_type": "execute_result"
    }
   ],
   "source": [
    "q_model.evaluate(Xq_val, yq_val)"
   ]
  },
  {
   "cell_type": "code",
   "execution_count": 32,
   "id": "3b30e382",
   "metadata": {},
   "outputs": [
    {
     "name": "stdout",
     "output_type": "stream",
     "text": [
      "1/1 [==============================] - 0s 59ms/step\n"
     ]
    },
    {
     "data": {
      "text/plain": [
       "array([[0.0204339 , 0.06564505, 0.33889613, 0.5750249 ],\n",
       "       [0.19705303, 0.3426073 , 0.3564164 , 0.10392327],\n",
       "       [0.0040592 , 0.00829293, 0.0718376 , 0.9158103 ],\n",
       "       [0.03208521, 0.13789164, 0.43913692, 0.3908863 ],\n",
       "       [0.03009879, 0.08851208, 0.22265211, 0.65873694]], dtype=float32)"
      ]
     },
     "execution_count": 32,
     "metadata": {},
     "output_type": "execute_result"
    }
   ],
   "source": [
    "q_model.predict(Xq_val[:5])"
   ]
  },
  {
   "cell_type": "code",
   "execution_count": 33,
   "id": "5c7187e3",
   "metadata": {},
   "outputs": [
    {
     "name": "stdout",
     "output_type": "stream",
     "text": [
      "1/1 [==============================] - 0s 22ms/step\n"
     ]
    },
    {
     "data": {
      "text/plain": [
       "array([3, 2, 3, 2, 3], dtype=int64)"
      ]
     },
     "execution_count": 33,
     "metadata": {},
     "output_type": "execute_result"
    }
   ],
   "source": [
    "np.argmax(q_model.predict(Xq_val[:5]), -1)"
   ]
  },
  {
   "cell_type": "code",
   "execution_count": 34,
   "id": "a9912394",
   "metadata": {},
   "outputs": [
    {
     "data": {
      "text/plain": [
       "array([1, 0, 3, 1, 3], dtype=int64)"
      ]
     },
     "execution_count": 34,
     "metadata": {},
     "output_type": "execute_result"
    }
   ],
   "source": [
    "np.argmax(yq_val[:5], -1)"
   ]
  },
  {
   "cell_type": "markdown",
   "id": "1e43fc69",
   "metadata": {},
   "source": [
    "# Confronto"
   ]
  },
  {
   "cell_type": "code",
   "execution_count": 35,
   "id": "8f33ac0f",
   "metadata": {},
   "outputs": [
    {
     "data": {
      "image/png": "[encoded data removed]",
      "text/plain": [
       "<Figure size 640x480 with 1 Axes>"
      ]
     },
     "metadata": {},
     "output_type": "display_data"
    }
   ],
   "source": [
    "plt.plot(fit_history.history[\"loss\"], \"ro-\")\n",
    "plt.plot(fit_q_history.history[\"loss\"], \"bo-\")\n",
    "plt.legend([\"Age Model\", \"Quartile Model\"])\n",
    "plt.ylabel(\"Loss\");\n",
    "plt.xlabel(\"Epochs\");"
   ]
  },
  {
   "cell_type": "code",
   "execution_count": 36,
   "id": "4fee998f",
   "metadata": {},
   "outputs": [
    {
     "data": {
      "image/png": "[encoded data removed]",
      "text/plain": [
       "<Figure size 640x480 with 1 Axes>"
      ]
     },
     "metadata": {},
     "output_type": "display_data"
    }
   ],
   "source": [
    "plt.plot(fit_history.history[\"accuracy\"], \"ro-\")\n",
    "plt.plot(fit_q_history.history[\"accuracy\"], \"bo-\")\n",
    "plt.legend([\"Age Model\", \"Quartile Model\"])\n",
    "plt.ylabel(\"Accuracy\");\n",
    "plt.xlabel(\"Epochs\");"
   ]
  },
  {
   "cell_type": "markdown",
   "id": "c3cec010",
   "metadata": {},
   "source": [
    "# Conversione modello TF Lite"
   ]
  },
  {
   "cell_type": "code",
   "execution_count": 37,
   "id": "5016ed99",
   "metadata": {},
   "outputs": [
    {
     "name": "stdout",
     "output_type": "stream",
     "text": [
      "Model: \"sequential\"\n",
      "_________________________________________________________________\n",
      " Layer (type)                Output Shape              Param #   \n",
      "=================================================================\n",
      " dense (Dense)               (None, 10)                110       \n",
      "                                                                 \n",
      " dense_1 (Dense)             (None, 32)                352       \n",
      "                                                                 \n",
      " dense_2 (Dense)             (None, 16)                528       \n",
      "                                                                 \n",
      " dense_3 (Dense)             (None, 30)                510       \n",
      "                                                                 \n",
      "=================================================================\n",
      "Total params: 1,500\n",
      "Trainable params: 1,500\n",
      "Non-trainable params: 0\n",
      "_________________________________________________________________\n"
     ]
    }
   ],
   "source": [
    "model.summary()"
   ]
  },
  {
   "cell_type": "code",
   "execution_count": 38,
   "id": "ad5f69fb",
   "metadata": {},
   "outputs": [],
   "source": [
    "converter = tf.lite.TFLiteConverter.from_keras_model(model)"
   ]
  },
  {
   "cell_type": "code",
   "execution_count": 39,
   "id": "25f3b0fa",
   "metadata": {},
   "outputs": [
    {
     "name": "stdout",
     "output_type": "stream",
     "text": [
      "INFO:tensorflow:Assets written to: C:\\Users\\Albi\\AppData\\Local\\Temp\\tmpfuqloj9n\\assets\n"
     ]
    }
   ],
   "source": [
    "tflite_model = converter.convert()"
   ]
  },
  {
   "cell_type": "code",
   "execution_count": 40,
   "id": "4a3903d7",
   "metadata": {},
   "outputs": [],
   "source": [
    "with tf.io.gfile.GFile(\"model.tflite\", \"wb\") as f:\n",
    "    f.write(tflite_model)"
   ]
  },
  {
   "cell_type": "code",
   "execution_count": 41,
   "id": "dad2d639",
   "metadata": {},
   "outputs": [
    {
     "name": "stdout",
     "output_type": "stream",
     "text": [
      "{'serving_default': {'inputs': ['dense_input'], 'outputs': ['dense_3']}}\n"
     ]
    }
   ],
   "source": [
    "interpreter = tf.lite.Interpreter(model_content=tflite_model)\n",
    "\n",
    "signatures = interpreter.get_signature_list()\n",
    "print(signatures)"
   ]
  },
  {
   "cell_type": "markdown",
   "id": "981deb77",
   "metadata": {},
   "source": [
    "# Conversione modello ML.NET"
   ]
  },
  {
   "cell_type": "code",
   "execution_count": 42,
   "id": "f507edbe",
   "metadata": {},
   "outputs": [
    {
     "name": "stdout",
     "output_type": "stream",
     "text": [
      "Model: \"sequential\"\n",
      "_________________________________________________________________\n",
      " Layer (type)                Output Shape              Param #   \n",
      "=================================================================\n",
      " dense (Dense)               (None, 10)                110       \n",
      "                                                                 \n",
      " dense_1 (Dense)             (None, 32)                352       \n",
      "                                                                 \n",
      " dense_2 (Dense)             (None, 16)                528       \n",
      "                                                                 \n",
      " dense_3 (Dense)             (None, 30)                510       \n",
      "                                                                 \n",
      "=================================================================\n",
      "Total params: 1,500\n",
      "Trainable params: 1,500\n",
      "Non-trainable params: 0\n",
      "_________________________________________________________________\n"
     ]
    }
   ],
   "source": [
    "model.summary()"
   ]
  },
  {
   "cell_type": "code",
   "execution_count": 45,
   "id": "b0bdd20f",
   "metadata": {},
   "outputs": [
    {
     "name": "stdout",
     "output_type": "stream",
     "text": [
      "INFO:tensorflow:Assets written to: abalone_model\\assets\n"
     ]
    },
    {
     "name": "stderr",
     "output_type": "stream",
     "text": [
      "INFO:tensorflow:Assets written to: abalone_model\\assets\n"
     ]
    }
   ],
   "source": [
    "# h5_path = 'my_model.h5'\n",
    "saved_model_path = 'abalone_model' # this is a folder, not a file\n",
    "\n",
    "# model = tf.keras.models.load_model(h5_path)\n",
    "tf.keras.models.save_model(model, saved_model_path)"
   ]
  },
  {
   "cell_type": "markdown",
   "id": "abb8909f",
   "metadata": {},
   "source": [
    "# Conversione modello ONNX"
   ]
  },
  {
   "cell_type": "code",
   "execution_count": 34,
   "id": "a70bc702",
   "metadata": {},
   "outputs": [],
   "source": [
    "import tf2onnx\n",
    "import onnxruntime as rt\n",
    "\n",
    "#spec = (tf.TensorSpec((None, 10), tf.float32, name=\"input\"),)\n",
    "output_path = \"model_from_keras.onnx\"\n",
    "\n",
    "#model_proto, _ = tf2onnx.convert.from_keras(model, input_signature=spec, opset=13, output_path=output_path)\n",
    "model_proto, _ = tf2onnx.convert.from_keras(model, output_path=output_path)\n",
    "output_names = [n.name for n in model_proto.graph.output]"
   ]
  },
  {
   "cell_type": "code",
   "execution_count": 65,
   "id": "4230b0f6",
   "metadata": {},
   "outputs": [
    {
     "data": {
      "text/plain": [
       "(array([[0.        , 0.        , 1.        , 0.65705925, 0.45693547,\n",
       "         0.46309394, 0.5386008 , 0.2557273 , 1.0862371 , 0.5909706 ]],\n",
       "       dtype=float32),\n",
       " 8)"
      ]
     },
     "execution_count": 65,
     "metadata": {},
     "output_type": "execute_result"
    }
   ],
   "source": [
    "input_sample = X_val[:1].astype(np.float32)\n",
    "input_sample, np.argmax(y_val[1], -1)"
   ]
  },
  {
   "cell_type": "code",
   "execution_count": 70,
   "id": "8b49e9dc",
   "metadata": {},
   "outputs": [
    {
     "name": "stdout",
     "output_type": "stream",
     "text": [
      "1/1 [==============================] - 0s 40ms/step\n"
     ]
    },
    {
     "data": {
      "text/plain": [
       "(8, array([11], dtype=int64))"
      ]
     },
     "execution_count": 70,
     "metadata": {},
     "output_type": "execute_result"
    }
   ],
   "source": [
    "np.argmax(y_val[1], -1), np.argmax(model.predict(input_sample), -1)"
   ]
  },
  {
   "cell_type": "code",
   "execution_count": 61,
   "id": "94b1a12f",
   "metadata": {},
   "outputs": [],
   "source": [
    "providers = ['CPUExecutionProvider']\n",
    "m = rt.InferenceSession(output_path, providers=providers)\n",
    "onnx_pred = m.run(output_names, {\"dense_input\": input_sample})"
   ]
  },
  {
   "cell_type": "code",
   "execution_count": 67,
   "id": "467b049a",
   "metadata": {},
   "outputs": [
    {
     "data": {
      "text/plain": [
       "[array([[2.88470090e-07, 8.78271749e-08, 1.40577230e-08, 1.38385632e-08,\n",
       "         5.67178517e-07, 9.99563963e-06, 3.18894337e-04, 2.24239728e-03,\n",
       "         2.87484545e-02, 1.02586076e-01, 1.91847593e-01, 2.00842410e-01,\n",
       "         1.41457334e-01, 1.15806669e-01, 6.47454634e-02, 5.04527353e-02,\n",
       "         2.63132285e-02, 2.87328660e-02, 1.60907637e-02, 1.72517169e-02,\n",
       "         7.14193610e-03, 3.29804723e-03, 2.13293897e-04, 9.45095613e-04,\n",
       "         1.04814375e-04, 1.09356388e-05, 6.44131433e-05, 4.30200162e-05,\n",
       "         2.33316754e-07, 7.30667904e-04]], dtype=float32)]"
      ]
     },
     "execution_count": 67,
     "metadata": {},
     "output_type": "execute_result"
    }
   ],
   "source": [
    "onnx_pred"
   ]
  },
  {
   "cell_type": "code",
   "execution_count": 63,
   "id": "e5f8c22f",
   "metadata": {},
   "outputs": [
    {
     "name": "stdout",
     "output_type": "stream",
     "text": [
      "1/1 [==============================] - 0s 29ms/step\n"
     ]
    },
    {
     "data": {
      "text/plain": [
       "array([[2.8847029e-07, 8.7827239e-08, 1.4057745e-08, 1.3838586e-08,\n",
       "        5.6717886e-07, 9.9956469e-06, 3.1889442e-04, 2.2423987e-03,\n",
       "        2.8748453e-02, 1.0258607e-01, 1.9184761e-01, 2.0084235e-01,\n",
       "        1.4145733e-01, 1.1580666e-01, 6.4745449e-02, 5.0452720e-02,\n",
       "        2.6313227e-02, 2.8732857e-02, 1.6090764e-02, 1.7251717e-02,\n",
       "        7.1419338e-03, 3.2980463e-03, 2.1329387e-04, 9.4509585e-04,\n",
       "        1.0481439e-04, 1.0935625e-05, 6.4413063e-05, 4.3019965e-05,\n",
       "        2.3331691e-07, 7.3066843e-04]], dtype=float32)"
      ]
     },
     "execution_count": 63,
     "metadata": {},
     "output_type": "execute_result"
    }
   ],
   "source": [
    "model.predict(input_sample)"
   ]
  },
  {
   "cell_type": "code",
   "execution_count": null,
   "id": "4294627c",
   "metadata": {},
   "outputs": [],
   "source": []
  }
 ],
 "metadata": {
  "kernelspec": {
   "display_name": "Python 3 (ipykernel)",
   "language": "python",
   "name": "python3"
  },
  "language_info": {
   "codemirror_mode": {
    "name": "ipython",
    "version": 3
   },
   "file_extension": ".py",
   "mimetype": "text/x-python",
   "name": "python",
   "nbconvert_exporter": "python",
   "pygments_lexer": "ipython3",
   "version": "3.9.15"
  },
  "vscode": {
   "interpreter": {
    "hash": "23e9339c4aaf0413f220bacfb75fc80defa65545e8ec82ff11ef15a97611f6f1"
   }
  }
 },
 "nbformat": 4,
 "nbformat_minor": 5
}
